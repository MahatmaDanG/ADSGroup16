{
 "cells": [
  {
   "cell_type": "code",
   "execution_count": 2,
   "id": "eeb7cb45-f2da-4b11-b180-4c6d98a4f772",
   "metadata": {},
   "outputs": [],
   "source": [
    "import pandas as pd\n",
    "import numpy as np\n",
    "import os\n",
    "import matplotlib.pyplot as plt\n",
    "import re"
   ]
  },
  {
   "cell_type": "code",
   "execution_count": 3,
   "id": "2ff617b4-3543-44ef-9463-3260ffb7ae81",
   "metadata": {},
   "outputs": [],
   "source": [
    "data_dir = '../metdata'"
   ]
  },
  {
   "cell_type": "code",
   "execution_count": 4,
   "id": "0401327b-2355-40cc-b967-3df9b304c101",
   "metadata": {},
   "outputs": [
    {
     "data": {
      "text/plain": [
       "['../metdata/40.75N_286.01E.csv',\n",
       " '../metdata/51.5N_359.9E.csv',\n",
       " '../metdata/59.92N_10.75E.csv',\n",
       " '../metdata/43.28N_5.39E.csv',\n",
       " '../metdata/17.36N_78.5E.csv',\n",
       " '../metdata/41.9N_12.46E.csv',\n",
       " '../metdata/58.76N_265.83E.csv',\n",
       " '../metdata/51.03N_245.94E.csv',\n",
       " '../metdata/-33.5N_151E.csv',\n",
       " '../metdata/43.64N_280.63E.csv',\n",
       " '../metdata/-33.9N_18.5E.csv',\n",
       " '../metdata/18N_283.2E.csv']"
      ]
     },
     "execution_count": 4,
     "metadata": {},
     "output_type": "execute_result"
    }
   ],
   "source": [
    "files = os.listdir(data_dir)\n",
    "files = [os.path.join(data_dir,x) for x in files]\n",
    "files"
   ]
  },
  {
   "cell_type": "code",
   "execution_count": 5,
   "id": "a1afeb9d-81eb-4a46-b97a-0dea40ce9be5",
   "metadata": {},
   "outputs": [
    {
     "data": {
      "text/plain": [
       "[(40.75, 286.01),\n",
       " (51.5, 359.9),\n",
       " (59.92, 10.75),\n",
       " (43.28, 5.39),\n",
       " (17.36, 78.5),\n",
       " (41.9, 12.46),\n",
       " (58.76, 265.83),\n",
       " (51.03, 245.94),\n",
       " (-33.5, 151.0),\n",
       " (43.64, 280.63),\n",
       " (-33.9, 18.5),\n",
       " (18.0, 283.2)]"
      ]
     },
     "execution_count": 5,
     "metadata": {},
     "output_type": "execute_result"
    }
   ],
   "source": [
    "pattern = r\"([-]?\\d+[\\.]?\\d+)N_([-]?\\d+[\\.]?\\d+)E\\.csv\"\n",
    "parsed_latlon = []\n",
    "for file in files:\n",
    "    match = re.search(pattern, file)\n",
    "    if match:\n",
    "        latitude = match.group(1)\n",
    "        longitude = match.group(2)\n",
    "    parsed_latlon.append((float(latitude), float(longitude)))\n",
    "lat, lon = zip(*parsed_latlon)\n",
    "parsed_latlon"
   ]
  },
  {
   "cell_type": "code",
   "execution_count": 6,
   "id": "9b140c43-8b4b-48c4-bfa3-133ffddcc014",
   "metadata": {},
   "outputs": [
    {
     "data": {
      "text/html": [
       "<div>\n",
       "<style scoped>\n",
       "    .dataframe tbody tr th:only-of-type {\n",
       "        vertical-align: middle;\n",
       "    }\n",
       "\n",
       "    .dataframe tbody tr th {\n",
       "        vertical-align: top;\n",
       "    }\n",
       "\n",
       "    .dataframe thead th {\n",
       "        text-align: right;\n",
       "    }\n",
       "</style>\n",
       "<table border=\"1\" class=\"dataframe\">\n",
       "  <thead>\n",
       "    <tr style=\"text-align: right;\">\n",
       "      <th></th>\n",
       "      <th>year</th>\n",
       "      <th>month</th>\n",
       "      <th>day</th>\n",
       "      <th>hour</th>\n",
       "      <th>temperature(celsius)</th>\n",
       "      <th>precipitation</th>\n",
       "      <th>u-wind</th>\n",
       "      <th>v-wind</th>\n",
       "      <th>longitude</th>\n",
       "      <th>latitude</th>\n",
       "    </tr>\n",
       "  </thead>\n",
       "  <tbody>\n",
       "    <tr>\n",
       "      <th>0</th>\n",
       "      <td>1980</td>\n",
       "      <td>1</td>\n",
       "      <td>1</td>\n",
       "      <td>1</td>\n",
       "      <td>-2.00</td>\n",
       "      <td>0.000000e+00</td>\n",
       "      <td>1.72010</td>\n",
       "      <td>-1.6487</td>\n",
       "      <td>286.01</td>\n",
       "      <td>40.75</td>\n",
       "    </tr>\n",
       "    <tr>\n",
       "      <th>1</th>\n",
       "      <td>1980</td>\n",
       "      <td>1</td>\n",
       "      <td>1</td>\n",
       "      <td>2</td>\n",
       "      <td>-3.08</td>\n",
       "      <td>0.000000e+00</td>\n",
       "      <td>1.72320</td>\n",
       "      <td>-1.3887</td>\n",
       "      <td>286.01</td>\n",
       "      <td>40.75</td>\n",
       "    </tr>\n",
       "    <tr>\n",
       "      <th>2</th>\n",
       "      <td>1980</td>\n",
       "      <td>1</td>\n",
       "      <td>1</td>\n",
       "      <td>3</td>\n",
       "      <td>-3.60</td>\n",
       "      <td>0.000000e+00</td>\n",
       "      <td>1.74940</td>\n",
       "      <td>-1.3237</td>\n",
       "      <td>286.01</td>\n",
       "      <td>40.75</td>\n",
       "    </tr>\n",
       "    <tr>\n",
       "      <th>3</th>\n",
       "      <td>1980</td>\n",
       "      <td>1</td>\n",
       "      <td>1</td>\n",
       "      <td>4</td>\n",
       "      <td>-3.40</td>\n",
       "      <td>0.000000e+00</td>\n",
       "      <td>1.78490</td>\n",
       "      <td>-1.5519</td>\n",
       "      <td>286.01</td>\n",
       "      <td>40.75</td>\n",
       "    </tr>\n",
       "    <tr>\n",
       "      <th>4</th>\n",
       "      <td>1980</td>\n",
       "      <td>1</td>\n",
       "      <td>1</td>\n",
       "      <td>5</td>\n",
       "      <td>-4.11</td>\n",
       "      <td>0.000000e+00</td>\n",
       "      <td>1.76480</td>\n",
       "      <td>-1.8720</td>\n",
       "      <td>286.01</td>\n",
       "      <td>40.75</td>\n",
       "    </tr>\n",
       "    <tr>\n",
       "      <th>...</th>\n",
       "      <td>...</td>\n",
       "      <td>...</td>\n",
       "      <td>...</td>\n",
       "      <td>...</td>\n",
       "      <td>...</td>\n",
       "      <td>...</td>\n",
       "      <td>...</td>\n",
       "      <td>...</td>\n",
       "      <td>...</td>\n",
       "      <td>...</td>\n",
       "    </tr>\n",
       "    <tr>\n",
       "      <th>341874</th>\n",
       "      <td>2018</td>\n",
       "      <td>12</td>\n",
       "      <td>31</td>\n",
       "      <td>19</td>\n",
       "      <td>3.10</td>\n",
       "      <td>8.887000e-07</td>\n",
       "      <td>0.27815</td>\n",
       "      <td>3.0868</td>\n",
       "      <td>286.01</td>\n",
       "      <td>40.75</td>\n",
       "    </tr>\n",
       "    <tr>\n",
       "      <th>341875</th>\n",
       "      <td>2018</td>\n",
       "      <td>12</td>\n",
       "      <td>31</td>\n",
       "      <td>20</td>\n",
       "      <td>3.45</td>\n",
       "      <td>3.548400e-05</td>\n",
       "      <td>-0.27715</td>\n",
       "      <td>3.2876</td>\n",
       "      <td>286.01</td>\n",
       "      <td>40.75</td>\n",
       "    </tr>\n",
       "    <tr>\n",
       "      <th>341876</th>\n",
       "      <td>2018</td>\n",
       "      <td>12</td>\n",
       "      <td>31</td>\n",
       "      <td>21</td>\n",
       "      <td>3.26</td>\n",
       "      <td>1.339300e-04</td>\n",
       "      <td>-0.70951</td>\n",
       "      <td>3.6037</td>\n",
       "      <td>286.01</td>\n",
       "      <td>40.75</td>\n",
       "    </tr>\n",
       "    <tr>\n",
       "      <th>341877</th>\n",
       "      <td>2018</td>\n",
       "      <td>12</td>\n",
       "      <td>31</td>\n",
       "      <td>22</td>\n",
       "      <td>2.38</td>\n",
       "      <td>2.838000e-04</td>\n",
       "      <td>-1.23100</td>\n",
       "      <td>2.8776</td>\n",
       "      <td>286.01</td>\n",
       "      <td>40.75</td>\n",
       "    </tr>\n",
       "    <tr>\n",
       "      <th>341878</th>\n",
       "      <td>2018</td>\n",
       "      <td>12</td>\n",
       "      <td>31</td>\n",
       "      <td>23</td>\n",
       "      <td>1.97</td>\n",
       "      <td>6.190200e-04</td>\n",
       "      <td>-1.91130</td>\n",
       "      <td>3.4266</td>\n",
       "      <td>286.01</td>\n",
       "      <td>40.75</td>\n",
       "    </tr>\n",
       "  </tbody>\n",
       "</table>\n",
       "<p>341879 rows × 10 columns</p>\n",
       "</div>"
      ],
      "text/plain": [
       "        year  month  day  hour  temperature(celsius)  precipitation   u-wind  \\\n",
       "0       1980      1    1     1                 -2.00   0.000000e+00  1.72010   \n",
       "1       1980      1    1     2                 -3.08   0.000000e+00  1.72320   \n",
       "2       1980      1    1     3                 -3.60   0.000000e+00  1.74940   \n",
       "3       1980      1    1     4                 -3.40   0.000000e+00  1.78490   \n",
       "4       1980      1    1     5                 -4.11   0.000000e+00  1.76480   \n",
       "...      ...    ...  ...   ...                   ...            ...      ...   \n",
       "341874  2018     12   31    19                  3.10   8.887000e-07  0.27815   \n",
       "341875  2018     12   31    20                  3.45   3.548400e-05 -0.27715   \n",
       "341876  2018     12   31    21                  3.26   1.339300e-04 -0.70951   \n",
       "341877  2018     12   31    22                  2.38   2.838000e-04 -1.23100   \n",
       "341878  2018     12   31    23                  1.97   6.190200e-04 -1.91130   \n",
       "\n",
       "        v-wind  longitude  latitude  \n",
       "0      -1.6487     286.01     40.75  \n",
       "1      -1.3887     286.01     40.75  \n",
       "2      -1.3237     286.01     40.75  \n",
       "3      -1.5519     286.01     40.75  \n",
       "4      -1.8720     286.01     40.75  \n",
       "...        ...        ...       ...  \n",
       "341874  3.0868     286.01     40.75  \n",
       "341875  3.2876     286.01     40.75  \n",
       "341876  3.6037     286.01     40.75  \n",
       "341877  2.8776     286.01     40.75  \n",
       "341878  3.4266     286.01     40.75  \n",
       "\n",
       "[341879 rows x 10 columns]"
      ]
     },
     "execution_count": 6,
     "metadata": {},
     "output_type": "execute_result"
    }
   ],
   "source": [
    "kelvin_to_cels = -273.15\n",
    "\n",
    "def readfile(path, index):\n",
    "    df = pd.read_csv(path)\n",
    "    headings = [\"year\", \"month\", \"day\", \"hour\", \"temperature(celsius)\", \"precipitation\", \"u-wind\", \"v-wind\"]\n",
    "    df.columns = headings\n",
    "    df[\"temperature(celsius)\"] = df[\"temperature(celsius)\"] + kelvin_to_cels\n",
    "    df[\"longitude\"] = lon[index]\n",
    "    df[\"latitude\"] = lat[index]\n",
    "    return df\n",
    "df = readfile(files[0], 0)\n",
    "df"
   ]
  },
  {
   "cell_type": "code",
   "execution_count": 7,
   "id": "0c8a2b84-5f0c-46e0-9707-8ffd4a5ae5b0",
   "metadata": {},
   "outputs": [
    {
     "data": {
      "text/plain": [
       "<bound method NDFrame.head of          year  month  day  hour  temperature(celsius)  precipitation  u-wind  \\\n",
       "0        1980      1    1     1                 -2.00   0.000000e+00  1.7201   \n",
       "1        1980      1    1     2                 -3.08   0.000000e+00  1.7232   \n",
       "2        1980      1    1     3                 -3.60   0.000000e+00  1.7494   \n",
       "3        1980      1    1     4                 -3.40   0.000000e+00  1.7849   \n",
       "4        1980      1    1     5                 -4.11   0.000000e+00  1.7648   \n",
       "...       ...    ...  ...   ...                   ...            ...     ...   \n",
       "4102543  2018     12   31    19                 26.56   4.681900e-16 -9.2599   \n",
       "4102544  2018     12   31    20                 26.69   1.755900e-16 -9.2270   \n",
       "4102545  2018     12   31    21                 26.86   1.154500e-10 -9.1698   \n",
       "4102546  2018     12   31    22                 27.12   2.926000e-16 -9.3076   \n",
       "4102547  2018     12   31    23                 27.24   8.776300e-17 -9.0002   \n",
       "\n",
       "          v-wind  longitude  latitude  \n",
       "0       -1.64870     286.01     40.75  \n",
       "1       -1.38870     286.01     40.75  \n",
       "2       -1.32370     286.01     40.75  \n",
       "3       -1.55190     286.01     40.75  \n",
       "4       -1.87200     286.01     40.75  \n",
       "...          ...        ...       ...  \n",
       "4102543 -0.11864     283.20     18.00  \n",
       "4102544  0.13446     283.20     18.00  \n",
       "4102545  0.47548     283.20     18.00  \n",
       "4102546  1.18610     283.20     18.00  \n",
       "4102547  1.31680     283.20     18.00  \n",
       "\n",
       "[4102548 rows x 10 columns]>"
      ]
     },
     "execution_count": 7,
     "metadata": {},
     "output_type": "execute_result"
    }
   ],
   "source": [
    "def join_datasets(files):\n",
    "    dfs = []\n",
    "    for i, file in enumerate(files):\n",
    "        df = readfile(file, i)\n",
    "        dfs.append(df)\n",
    "    dfs = pd.concat(dfs, axis = 0)\n",
    "    dfs.reset_index(drop=True, inplace=True)\n",
    "    return dfs\n",
    "\n",
    "dfs = join_datasets(files)\n",
    "dfs.head"
   ]
  },
  {
   "cell_type": "code",
   "execution_count": 20,
   "id": "261ba532-bbf7-4905-87d3-cd9b9c1e7e53",
   "metadata": {},
   "outputs": [],
   "source": [
    "# IN PROCESS OF MAKING THIS YEAR SPECIFIC\n",
    "def plot_mean(var, year, lon, lat):\n",
    "    plt.figure(figsize=(8, 8))\n",
    "    data = dfs[dfs[\"longitude\"]==lon]\n",
    "    data = data[data[\"year\"] == year]\n",
    "    for i, file in enumerate(files):\n",
    "        temps = data.groupby(\"month\")[var].mean()\n",
    "        label = file.replace(data_dir, \"\").replace(\".csv\", \"\").replace(\"/\", \"\").replace(\"_\", \", \")\n",
    "        plt.plot(temps.index, temps.values)\n",
    "    plt.title(f'Average {var.capitalize()} Change in {year} at ({lon},{lat})')\n",
    "    plt.xlabel('Month')\n",
    "    plt.ylabel(f'Average {var.capitalize()}')\n",
    "    plt.legend(bbox_to_anchor=(1, 1), ncol=1, fancybox=True, shadow=True)\n",
    "    plt.show()\n",
    "    "
   ]
  },
  {
   "cell_type": "code",
   "execution_count": 21,
   "id": "f4f0a0d5-4615-46bd-a4d8-e619ce907f08",
   "metadata": {},
   "outputs": [
    {
     "name": "stderr",
     "output_type": "stream",
     "text": [
      "No artists with labels found to put in legend.  Note that artists whose label start with an underscore are ignored when legend() is called with no argument.\n"
     ]
    },
    {
     "data": {
      "image/png": "[encoded data removed]",
      "text/plain": [
       "<Figure size 800x800 with 1 Axes>"
      ]
     },
     "metadata": {},
     "output_type": "display_data"
    },
    {
     "name": "stderr",
     "output_type": "stream",
     "text": [
      "No artists with labels found to put in legend.  Note that artists whose label start with an underscore are ignored when legend() is called with no argument.\n"
     ]
    },
    {
     "data": {
      "image/png": "[encoded data removed]",
      "text/plain": [
       "<Figure size 800x800 with 1 Axes>"
      ]
     },
     "metadata": {},
     "output_type": "display_data"
    }
   ],
   "source": [
    "plot_mean(\"temperature(celsius)\", 1980, 286.01, 40.75)\n",
    "plot_mean(\"precipitation\", 1980, 286.01, 40.75)"
   ]
  },
  {
   "cell_type": "code",
   "execution_count": 8,
   "id": "355181ca-2fc9-4c82-8c03-cfc30d4dccfe",
   "metadata": {},
   "outputs": [],
   "source": [
    "import plotly.graph_objects as go"
   ]
  },
  {
   "cell_type": "code",
   "execution_count": null,
   "id": "63e6ac3c-c6dc-4fd4-8db3-7f98377adf8d",
   "metadata": {},
   "outputs": [],
   "source": [
    "subset = dfs.sample(10000)"
   ]
  },
  {
   "cell_type": "code",
   "execution_count": 50,
   "id": "b9bdcd1e-41e4-4e4e-9815-f95a33a3d076",
   "metadata": {},
   "outputs": [
    {
     "ename": "KeyError",
     "evalue": "'temperature(°C)'",
     "output_type": "error",
     "traceback": [
      "\u001b[0;31m---------------------------------------------------------------------------\u001b[0m",
      "\u001b[0;31mKeyError\u001b[0m                                  Traceback (most recent call last)",
      "File \u001b[0;32m~/.local/lib/python3.10/site-packages/pandas/core/indexes/base.py:3790\u001b[0m, in \u001b[0;36mIndex.get_loc\u001b[0;34m(self, key)\u001b[0m\n\u001b[1;32m   3789\u001b[0m \u001b[38;5;28;01mtry\u001b[39;00m:\n\u001b[0;32m-> 3790\u001b[0m     \u001b[38;5;28;01mreturn\u001b[39;00m \u001b[38;5;28;43mself\u001b[39;49m\u001b[38;5;241;43m.\u001b[39;49m\u001b[43m_engine\u001b[49m\u001b[38;5;241;43m.\u001b[39;49m\u001b[43mget_loc\u001b[49m\u001b[43m(\u001b[49m\u001b[43mcasted_key\u001b[49m\u001b[43m)\u001b[49m\n\u001b[1;32m   3791\u001b[0m \u001b[38;5;28;01mexcept\u001b[39;00m \u001b[38;5;167;01mKeyError\u001b[39;00m \u001b[38;5;28;01mas\u001b[39;00m err:\n",
      "File \u001b[0;32mindex.pyx:152\u001b[0m, in \u001b[0;36mpandas._libs.index.IndexEngine.get_loc\u001b[0;34m()\u001b[0m\n",
      "File \u001b[0;32mindex.pyx:181\u001b[0m, in \u001b[0;36mpandas._libs.index.IndexEngine.get_loc\u001b[0;34m()\u001b[0m\n",
      "File \u001b[0;32mpandas/_libs/hashtable_class_helper.pxi:7080\u001b[0m, in \u001b[0;36mpandas._libs.hashtable.PyObjectHashTable.get_item\u001b[0;34m()\u001b[0m\n",
      "File \u001b[0;32mpandas/_libs/hashtable_class_helper.pxi:7088\u001b[0m, in \u001b[0;36mpandas._libs.hashtable.PyObjectHashTable.get_item\u001b[0;34m()\u001b[0m\n",
      "\u001b[0;31mKeyError\u001b[0m: 'temperature(°C)'",
      "\nThe above exception was the direct cause of the following exception:\n",
      "\u001b[0;31mKeyError\u001b[0m                                  Traceback (most recent call last)",
      "Cell \u001b[0;32mIn[50], line 4\u001b[0m\n\u001b[1;32m      1\u001b[0m fig \u001b[38;5;241m=\u001b[39m go\u001b[38;5;241m.\u001b[39mFigure(data\u001b[38;5;241m=\u001b[39m[go\u001b[38;5;241m.\u001b[39mScatter3d(\n\u001b[1;32m      2\u001b[0m     x\u001b[38;5;241m=\u001b[39msubset[\u001b[38;5;124m'\u001b[39m\u001b[38;5;124mlatitude\u001b[39m\u001b[38;5;124m'\u001b[39m],\n\u001b[1;32m      3\u001b[0m     y\u001b[38;5;241m=\u001b[39msubset[\u001b[38;5;124m'\u001b[39m\u001b[38;5;124mlongitude\u001b[39m\u001b[38;5;124m'\u001b[39m],\n\u001b[0;32m----> 4\u001b[0m     z\u001b[38;5;241m=\u001b[39m\u001b[43msubset\u001b[49m\u001b[43m[\u001b[49m\u001b[38;5;124;43m'\u001b[39;49m\u001b[38;5;124;43mtemperature(°C)\u001b[39;49m\u001b[38;5;124;43m'\u001b[39;49m\u001b[43m]\u001b[49m,\n\u001b[1;32m      5\u001b[0m     mode\u001b[38;5;241m=\u001b[39m\u001b[38;5;124m'\u001b[39m\u001b[38;5;124mmarkers\u001b[39m\u001b[38;5;124m'\u001b[39m,\n\u001b[1;32m      6\u001b[0m     marker\u001b[38;5;241m=\u001b[39m\u001b[38;5;28mdict\u001b[39m(\n\u001b[1;32m      7\u001b[0m         size\u001b[38;5;241m=\u001b[39m\u001b[38;5;241m5\u001b[39m,\n\u001b[1;32m      8\u001b[0m         color\u001b[38;5;241m=\u001b[39msubset[\u001b[38;5;124m'\u001b[39m\u001b[38;5;124mtemperature(°C)\u001b[39m\u001b[38;5;124m'\u001b[39m],  \u001b[38;5;66;03m# set color to temperature\u001b[39;00m\n\u001b[1;32m      9\u001b[0m         colorscale\u001b[38;5;241m=\u001b[39m\u001b[38;5;124m'\u001b[39m\u001b[38;5;124mViridis\u001b[39m\u001b[38;5;124m'\u001b[39m,  \u001b[38;5;66;03m# choose a colorscale\u001b[39;00m\n\u001b[1;32m     10\u001b[0m         opacity\u001b[38;5;241m=\u001b[39m\u001b[38;5;241m0.8\u001b[39m\n\u001b[1;32m     11\u001b[0m     )\n\u001b[1;32m     12\u001b[0m )])\n\u001b[1;32m     14\u001b[0m \u001b[38;5;66;03m# Set plot titles and labels\u001b[39;00m\n\u001b[1;32m     15\u001b[0m fig\u001b[38;5;241m.\u001b[39mupdate_layout(title\u001b[38;5;241m=\u001b[39m\u001b[38;5;124m'\u001b[39m\u001b[38;5;124mTemperature Distribution by Latitude and Longitude\u001b[39m\u001b[38;5;124m'\u001b[39m,\n\u001b[1;32m     16\u001b[0m                   scene\u001b[38;5;241m=\u001b[39m\u001b[38;5;28mdict\u001b[39m(\n\u001b[1;32m     17\u001b[0m                       xaxis_title\u001b[38;5;241m=\u001b[39m\u001b[38;5;124m'\u001b[39m\u001b[38;5;124mLatitude\u001b[39m\u001b[38;5;124m'\u001b[39m,\n\u001b[1;32m     18\u001b[0m                       yaxis_title\u001b[38;5;241m=\u001b[39m\u001b[38;5;124m'\u001b[39m\u001b[38;5;124mLongitude\u001b[39m\u001b[38;5;124m'\u001b[39m,\n\u001b[1;32m     19\u001b[0m                       zaxis_title\u001b[38;5;241m=\u001b[39m\u001b[38;5;124m'\u001b[39m\u001b[38;5;124mTemperature(°C)\u001b[39m\u001b[38;5;124m'\u001b[39m\n\u001b[1;32m     20\u001b[0m                   ))\n",
      "File \u001b[0;32m~/.local/lib/python3.10/site-packages/pandas/core/frame.py:3896\u001b[0m, in \u001b[0;36mDataFrame.__getitem__\u001b[0;34m(self, key)\u001b[0m\n\u001b[1;32m   3894\u001b[0m \u001b[38;5;28;01mif\u001b[39;00m \u001b[38;5;28mself\u001b[39m\u001b[38;5;241m.\u001b[39mcolumns\u001b[38;5;241m.\u001b[39mnlevels \u001b[38;5;241m>\u001b[39m \u001b[38;5;241m1\u001b[39m:\n\u001b[1;32m   3895\u001b[0m     \u001b[38;5;28;01mreturn\u001b[39;00m \u001b[38;5;28mself\u001b[39m\u001b[38;5;241m.\u001b[39m_getitem_multilevel(key)\n\u001b[0;32m-> 3896\u001b[0m indexer \u001b[38;5;241m=\u001b[39m \u001b[38;5;28;43mself\u001b[39;49m\u001b[38;5;241;43m.\u001b[39;49m\u001b[43mcolumns\u001b[49m\u001b[38;5;241;43m.\u001b[39;49m\u001b[43mget_loc\u001b[49m\u001b[43m(\u001b[49m\u001b[43mkey\u001b[49m\u001b[43m)\u001b[49m\n\u001b[1;32m   3897\u001b[0m \u001b[38;5;28;01mif\u001b[39;00m is_integer(indexer):\n\u001b[1;32m   3898\u001b[0m     indexer \u001b[38;5;241m=\u001b[39m [indexer]\n",
      "File \u001b[0;32m~/.local/lib/python3.10/site-packages/pandas/core/indexes/base.py:3797\u001b[0m, in \u001b[0;36mIndex.get_loc\u001b[0;34m(self, key)\u001b[0m\n\u001b[1;32m   3792\u001b[0m     \u001b[38;5;28;01mif\u001b[39;00m \u001b[38;5;28misinstance\u001b[39m(casted_key, \u001b[38;5;28mslice\u001b[39m) \u001b[38;5;129;01mor\u001b[39;00m (\n\u001b[1;32m   3793\u001b[0m         \u001b[38;5;28misinstance\u001b[39m(casted_key, abc\u001b[38;5;241m.\u001b[39mIterable)\n\u001b[1;32m   3794\u001b[0m         \u001b[38;5;129;01mand\u001b[39;00m \u001b[38;5;28many\u001b[39m(\u001b[38;5;28misinstance\u001b[39m(x, \u001b[38;5;28mslice\u001b[39m) \u001b[38;5;28;01mfor\u001b[39;00m x \u001b[38;5;129;01min\u001b[39;00m casted_key)\n\u001b[1;32m   3795\u001b[0m     ):\n\u001b[1;32m   3796\u001b[0m         \u001b[38;5;28;01mraise\u001b[39;00m InvalidIndexError(key)\n\u001b[0;32m-> 3797\u001b[0m     \u001b[38;5;28;01mraise\u001b[39;00m \u001b[38;5;167;01mKeyError\u001b[39;00m(key) \u001b[38;5;28;01mfrom\u001b[39;00m \u001b[38;5;21;01merr\u001b[39;00m\n\u001b[1;32m   3798\u001b[0m \u001b[38;5;28;01mexcept\u001b[39;00m \u001b[38;5;167;01mTypeError\u001b[39;00m:\n\u001b[1;32m   3799\u001b[0m     \u001b[38;5;66;03m# If we have a listlike key, _check_indexing_error will raise\u001b[39;00m\n\u001b[1;32m   3800\u001b[0m     \u001b[38;5;66;03m#  InvalidIndexError. Otherwise we fall through and re-raise\u001b[39;00m\n\u001b[1;32m   3801\u001b[0m     \u001b[38;5;66;03m#  the TypeError.\u001b[39;00m\n\u001b[1;32m   3802\u001b[0m     \u001b[38;5;28mself\u001b[39m\u001b[38;5;241m.\u001b[39m_check_indexing_error(key)\n",
      "\u001b[0;31mKeyError\u001b[0m: 'temperature(°C)'"
     ]
    }
   ],
   "source": [
    "\n",
    "\n",
    "fig = go.Figure(data=[go.Scatter3d(\n",
    "    x=subset['latitude'],\n",
    "    y=subset['longitude'],\n",
    "    z=subset['temperature(°C)'],\n",
    "    mode='markers',\n",
    "    marker=dict(\n",
    "        size=5,\n",
    "        color=subset['temperature(°C)'],  # set color to temperature\n",
    "        colorscale='Viridis',  # choose a colorscale\n",
    "        opacity=0.8\n",
    "    )\n",
    ")])\n",
    "\n",
    "# Set plot titles and labels\n",
    "fig.update_layout(title='Temperature Distribution by Latitude and Longitude',\n",
    "                  scene=dict(\n",
    "                      xaxis_title='Latitude',\n",
    "                      yaxis_title='Longitude',\n",
    "                      zaxis_title='Temperature(°C)'\n",
    "                  ))\n",
    "\n",
    "# Show the plot\n",
    "fig.show()"
   ]
  },
  {
   "cell_type": "code",
   "execution_count": 51,
   "id": "445dd931-a076-4d2d-83dd-b1c627d4ee3f",
   "metadata": {},
   "outputs": [
    {
     "data": {
      "image/png": "[encoded data removed]",
      "text/plain": [
       "<Figure size 400x400 with 1 Axes>"
      ]
     },
     "metadata": {},
     "output_type": "display_data"
    }
   ],
   "source": [
    "plt.figure(figsize=(4,4))\n",
    "temps = subset.groupby(\"latitude\")[\"temperature(celsius)\"].mean()\n",
    "temps.plot(kind='line')\n",
    "plt.title(f'Average Temperature at each Latitude')\n",
    "plt.xlabel('Latitude')\n",
    "plt.ylabel(f'Average Temperature (Celsius)')\n",
    "plt.show()"
   ]
  },
  {
   "cell_type": "code",
   "execution_count": 52,
   "id": "2bc3a66b-5788-4975-a845-1dc2ec58abd5",
   "metadata": {},
   "outputs": [
    {
     "data": {
      "image/png": "[encoded data removed]",
      "text/plain": [
       "<Figure size 400x400 with 1 Axes>"
      ]
     },
     "metadata": {},
     "output_type": "display_data"
    }
   ],
   "source": [
    "plt.figure(figsize=(4,4))\n",
    "temps = subset.groupby(\"longitude\")[\"temperature(celsius)\"].mean()\n",
    "temps.plot(kind='line')\n",
    "plt.title(f'Average Temperature at each Longitude')\n",
    "plt.xlabel('Longitude')\n",
    "plt.ylabel(f'Average Temperature (Celsius)')\n",
    "plt.show()"
   ]
  },
  {
   "cell_type": "code",
   "execution_count": 41,
   "id": "1e86f8b3-49a3-4def-ace0-6cd00bc9e3d9",
   "metadata": {},
   "outputs": [],
   "source": [
    "import seaborn as sns"
   ]
  },
  {
   "cell_type": "code",
   "execution_count": 54,
   "id": "65b09a22-eb35-478a-80fa-ad7b9d90aa4b",
   "metadata": {},
   "outputs": [
    {
     "name": "stderr",
     "output_type": "stream",
     "text": [
      "/home/gfa789/.local/lib/python3.10/site-packages/seaborn/_oldcore.py:1498: FutureWarning:\n",
      "\n",
      "is_categorical_dtype is deprecated and will be removed in a future version. Use isinstance(dtype, CategoricalDtype) instead\n",
      "\n",
      "/home/gfa789/.local/lib/python3.10/site-packages/seaborn/_oldcore.py:1498: FutureWarning:\n",
      "\n",
      "is_categorical_dtype is deprecated and will be removed in a future version. Use isinstance(dtype, CategoricalDtype) instead\n",
      "\n",
      "/home/gfa789/.local/lib/python3.10/site-packages/seaborn/_oldcore.py:1498: FutureWarning:\n",
      "\n",
      "is_categorical_dtype is deprecated and will be removed in a future version. Use isinstance(dtype, CategoricalDtype) instead\n",
      "\n"
     ]
    },
    {
     "data": {
      "image/png": "[encoded data removed]",
      "text/plain": [
       "<Figure size 1200x600 with 1 Axes>"
      ]
     },
     "metadata": {},
     "output_type": "display_data"
    }
   ],
   "source": [
    "# Plot\n",
    "plt.figure(figsize=(12, 6))\n",
    "sns.boxplot(x='latitude', y='temperature(celsius)', data=subset)\n",
    "\n",
    "plt.xticks(rotation=45)\n",
    "plt.title('Temperature Distribution by Latitude')\n",
    "plt.xlabel('Latitude')\n",
    "plt.ylabel('Temperature (°C)')\n",
    "# plt.tight_layout()\n",
    "plt.show()"
   ]
  },
  {
   "cell_type": "code",
   "execution_count": 53,
   "id": "cafe35d9-d812-4335-a79a-1fe5bc7e231b",
   "metadata": {},
   "outputs": [
    {
     "name": "stderr",
     "output_type": "stream",
     "text": [
      "/home/gfa789/.local/lib/python3.10/site-packages/seaborn/_oldcore.py:1498: FutureWarning:\n",
      "\n",
      "is_categorical_dtype is deprecated and will be removed in a future version. Use isinstance(dtype, CategoricalDtype) instead\n",
      "\n",
      "/home/gfa789/.local/lib/python3.10/site-packages/seaborn/_oldcore.py:1498: FutureWarning:\n",
      "\n",
      "is_categorical_dtype is deprecated and will be removed in a future version. Use isinstance(dtype, CategoricalDtype) instead\n",
      "\n",
      "/home/gfa789/.local/lib/python3.10/site-packages/seaborn/_oldcore.py:1498: FutureWarning:\n",
      "\n",
      "is_categorical_dtype is deprecated and will be removed in a future version. Use isinstance(dtype, CategoricalDtype) instead\n",
      "\n"
     ]
    },
    {
     "data": {
      "image/png": "[encoded data removed]",
      "text/plain": [
       "<Figure size 1200x600 with 1 Axes>"
      ]
     },
     "metadata": {},
     "output_type": "display_data"
    }
   ],
   "source": [
    "# Plot\n",
    "plt.figure(figsize=(12, 6))\n",
    "sns.boxplot(x='longitude', y='temperature(celsius)', data=subset)\n",
    "\n",
    "plt.xticks(rotation=45)\n",
    "plt.title('Temperature Distribution by Longitude')\n",
    "plt.xlabel('Longitude')\n",
    "plt.ylabel('Temperature (°C)')\n",
    "# plt.tight_layout()\n",
    "plt.show()"
   ]
  },
  {
   "cell_type": "code",
   "execution_count": 63,
   "id": "665871f3-e9ff-4593-a041-badd9b6211b3",
   "metadata": {},
   "outputs": [
    {
     "name": "stdout",
     "output_type": "stream",
     "text": [
      "359.9\n"
     ]
    },
    {
     "data": {
      "image/png": "[encoded data removed]",
      "text/plain": [
       "<Figure size 800x600 with 1 Axes>"
      ]
     },
     "metadata": {},
     "output_type": "display_data"
    }
   ],
   "source": [
    "plt.figure(figsize=(8, 6))\n",
    "ax = plt.subplot(111, polar=True)\n",
    "\n",
    "print(np.max(subset[\"longitude\"]))\n",
    "ax.scatter(subset[\"longitude\"], subset[\"temperature(celsius)\"])\n",
    "\n",
    "ax.set_theta_direction(-1)\n",
    "\n",
    "ax.set_thetamin(0)  # Optionally set the limits for the plot\n",
    "ax.set_thetamax(360)\n",
    "ax.set_theta_zero_location('N')  # 'N' for north\n",
    "\n",
    "plt.title('Cyclical Representation of Temperature by Longitude')\n",
    "plt.show()"
   ]
  },
  {
   "cell_type": "code",
   "execution_count": 89,
   "id": "d17b8f34-dd69-423e-bf36-1b0ec81b93ff",
   "metadata": {},
   "outputs": [
    {
     "data": {
      "application/vnd.plotly.v1+json": {
       "config": {
        "plotlyServerURL": "https://plot.ly"
       },
       "data": [
        {
         "mode": "lines",
         "type": "scatter",
         "x": [
          10,
          9.909453,
          null,
          6,
          6.20178,
          null,
          11,
          10.70028,
          null,
          11,
          11.51797,
          null,
          4,
          4.43663,
          null,
          3,
          3.15613,
          null,
          1,
          1.0081166,
          null,
          3,
          3.1745200000000002,
          null,
          11,
          10.82898,
          null,
          10,
          9.9908157,
          null,
          6,
          6.19685,
          null,
          3,
          3.2109,
          null,
          3,
          2.910698,
          null,
          4,
          3.956798,
          null,
          7,
          7.2104099999999995,
          null,
          12,
          12.2486,
          null,
          3,
          3.067756,
          null,
          7,
          7.25562,
          null,
          11,
          11.091144,
          null,
          8,
          7.990427,
          null,
          8,
          7.68386,
          null,
          2,
          1.901819,
          null,
          9,
          9.25504,
          null,
          5,
          5.18878,
          null,
          3,
          3.45614,
          null,
          12,
          12.46206,
          null,
          6,
          6.10973,
          null,
          10,
          10.09767,
          null,
          2,
          2.51503,
          null,
          1,
          1.2975,
          null,
          10,
          10.42881,
          null,
          5,
          4.81178,
          null,
          5,
          5.035001,
          null,
          2,
          2.54635,
          null,
          8,
          8.17887,
          null,
          1,
          1.11686,
          null,
          6,
          6.20207,
          null,
          6,
          5.974553,
          null,
          11,
          11.34569,
          null,
          1,
          1.072396,
          null,
          10,
          10.171,
          null,
          1,
          1.68957,
          null,
          11,
          11.28761,
          null,
          12,
          12.24144,
          null,
          9,
          9.17283,
          null,
          7,
          6.9908118,
          null,
          5,
          5.20511,
          null,
          10,
          10.26685,
          null,
          6,
          6.23966,
          null,
          8,
          7.96064,
          null,
          5,
          5.079694,
          null,
          5,
          5.25375,
          null,
          5,
          5.24468,
          null,
          11,
          11.16265,
          null,
          1,
          1.43603,
          null,
          6,
          6.31188,
          null,
          12,
          12.087336,
          null,
          2,
          2.25531,
          null,
          11,
          11.27075,
          null,
          4,
          4.05386,
          null,
          2,
          2.13474,
          null,
          3,
          3.49777,
          null,
          3,
          2.70871,
          null,
          7,
          7.23447,
          null,
          10,
          10.18286,
          null,
          4,
          4.44618,
          null,
          1,
          1.35914,
          null,
          7,
          7.18385,
          null,
          11,
          11.49321,
          null,
          5,
          4.965224,
          null,
          3,
          3.35018,
          null,
          5,
          4.86686,
          null,
          10,
          10.13008,
          null,
          9,
          8.977151,
          null,
          10,
          9.80559,
          null,
          9,
          9.29778,
          null,
          8,
          8.15351,
          null,
          8,
          7.8142,
          null,
          8,
          8.078402,
          null,
          5,
          5.14865,
          null,
          3,
          3.31935,
          null,
          6,
          6.44942,
          null,
          4,
          3.82441,
          null,
          10,
          9.913721,
          null,
          7,
          7.46158,
          null,
          12,
          11.80831,
          null,
          9,
          9.24632,
          null,
          7,
          7.28955,
          null,
          6,
          6.21258,
          null,
          3,
          3.14531,
          null,
          12,
          12.30374,
          null,
          12,
          12.34282,
          null,
          11,
          11.39218,
          null,
          12,
          11.85718,
          null,
          4,
          3.86147,
          null,
          10,
          9.86759,
          null,
          5,
          4.61732,
          null,
          3,
          3.13677,
          null,
          9,
          9.14769,
          null,
          6,
          6.52226,
          null,
          5,
          4.967591,
          null,
          12,
          12.040866,
          null,
          8,
          7.937658,
          null,
          2,
          1.68776,
          null,
          4,
          4.26287,
          null,
          3,
          2.989938,
          null,
          3,
          3.14286,
          null,
          4,
          4.094424,
          null,
          11,
          11.21227,
          null,
          5,
          5.14942,
          null,
          3,
          3.35261,
          null,
          2,
          2.29833,
          null,
          2,
          2.3624,
          null,
          8,
          8.090423,
          null,
          1,
          1.23623,
          null,
          2,
          2.339,
          null,
          6,
          6.4188,
          null,
          6,
          6.34155,
          null,
          9,
          8.7467,
          null,
          11,
          11.097793,
          null,
          11,
          11.338940000000001,
          null,
          8,
          8.28454,
          null,
          9,
          9.079259,
          null,
          9,
          9.50136,
          null,
          9.915496068875896,
          9.909453,
          9.954461739764684,
          null,
          6.151132016126321,
          6.20178,
          6.138661277660371,
          null,
          10.788345323259431,
          10.70028,
          10.781201480121739,
          null,
          11.321880527101428,
          11.51797,
          11.422019920825486,
          null,
          4.366336542720352,
          4.43663,
          4.260744663871398,
          null,
          3.08939670729445,
          3.15613,
          3.134834767375568,
          null,
          0.9800015001792871,
          1.0081166,
          1.0316554343451902,
          null,
          3.152567461803753,
          3.1745200000000002,
          3.0980754444885132,
          null,
          10.875482658137786,
          10.82898,
          10.878901081066298,
          null,
          10.032190935994677,
          9.9908157,
          9.954618715367575,
          null,
          6.130367345074441,
          6.19685,
          6.152345559484536,
          null,
          3.0971506341702075,
          3.2109,
          3.2057406615955437,
          null,
          2.917820421921403,
          2.910698,
          2.953925436331451,
          null,
          3.9606924656632816,
          3.956798,
          3.977261494698634,
          null,
          7.1597993924162795,
          7.2104099999999995,
          7.142388172979982,
          null,
          12.173926411735778,
          12.2486,
          12.183109036947796,
          null,
          3.086165773234899,
          3.067756,
          3.011144338836719,
          null,
          7.151867829242133,
          7.25562,
          7.215249634122691,
          null,
          11.093882957306418,
          11.091144,
          11.037016636156235,
          null,
          8.0120011109075,
          7.990427,
          7.974250295567771,
          null,
          7.788845221788029,
          7.68386,
          7.757119433293125,
          null,
          1.956088370463705,
          1.901819,
          1.9029056062571235,
          null,
          9.19319804083637,
          9.25504,
          9.173086435560487,
          null,
          5.1255334517141105,
          5.18878,
          5.1455894445147115,
          null,
          3.3100028969129482,
          3.45614,
          3.3450982678598815,
          null,
          12.306440552644148,
          12.46206,
          12.35716282393965,
          null,
          6.084933741684295,
          6.10973,
          6.072658775548403,
          null,
          10.10226612282265,
          10.09767,
          10.038006010214055,
          null,
          2.34872578738735,
          2.51503,
          2.39095227832263,
          null,
          1.1895015444026686,
          1.2975,
          1.2377633227870468,
          null,
          10.303030506115125,
          10.42881,
          10.312819738253353,
          null,
          4.870446154260302,
          4.81178,
          4.859235212790292,
          null,
          5.017542432270692,
          5.035001,
          5.032725458877231,
          null,
          2.369396204319666,
          2.54635,
          2.415263157660505,
          null,
          8.141553076268975,
          8.17887,
          8.115337232283041,
          null,
          1.108539654299082,
          1.11686,
          1.0592928579018932,
          null,
          6.1786765648437525,
          6.20207,
          6.111533222426923,
          null,
          5.972537925861736,
          5.974553,
          5.990915489010948,
          null,
          11.22270891387832,
          11.34569,
          11.273765680873991,
          null,
          1.0244259946980543,
          1.072396,
          1.0795480131172956,
          null,
          10.113536138324223,
          10.171,
          10.132051398783142,
          null,
          1.486287317613019,
          1.68957,
          1.5040623780777778,
          null,
          11.15921372487233,
          11.28761,
          11.253847278329129,
          null,
          12.186915051464778,
          12.24144,
          12.159837316717693,
          null,
          9.155615114928182,
          9.17283,
          9.09260063968156,
          null,
          7.02418794226253,
          6.9908118,
          6.962616107980454,
          null,
          5.109238495040336,
          5.20511,
          5.185337292890026,
          null,
          10.160216223541815,
          10.26685,
          10.223029590944154,
          null,
          6.168185919349358,
          6.23966,
          6.176010040552111,
          null,
          7.9788186830083285,
          7.96064,
          7.964653097924152,
          null,
          5.084482884085216,
          5.079694,
          5.029972397682236,
          null,
          5.214412649474914,
          5.25375,
          5.150019149010432,
          null,
          5.145496609865736,
          5.24468,
          5.205908995861926,
          null,
          11.109610658286984,
          11.16265,
          11.123984738850519,
          null,
          1.3261612366369135,
          1.43603,
          1.3000582592983185,
          null,
          6.212492374323792,
          6.31188,
          6.235424824933784,
          null,
          12.048301204660993,
          12.087336,
          12.077129398501633,
          null,
          2.204022527424919,
          2.25531,
          2.162649718767371,
          null,
          11.18133298791101,
          11.27075,
          11.207513945842319,
          null,
          4.002854624901976,
          4.05386,
          4.0744982683647075,
          null,
          2.1070656000830073,
          2.13474,
          2.0864458896821767,
          null,
          3.384421942070364,
          3.49777,
          3.330467580420475,
          null,
          2.781875875679632,
          2.70871,
          2.7997779624256043,
          null,
          7.187803639844633,
          7.23447,
          7.148938522877963,
          null,
          10.10981642832177,
          10.18286,
          10.152804256096083,
          null,
          4.2954907669996425,
          4.44618,
          4.345306000875003,
          null,
          1.238802705170278,
          1.35914,
          1.2769885701322914,
          null,
          7.110174374825489,
          7.18385,
          7.153868132175617,
          null,
          11.333391510983182,
          11.49321,
          11.374949010518126,
          null,
          5.0180021141628695,
          4.965224,
          4.932053136185401,
          null,
          3.1933434165411887,
          3.35018,
          3.3095796462907257,
          null,
          4.908584454303811,
          4.86686,
          4.900201951015051,
          null,
          10.085859477310596,
          10.13008,
          10.100959393022306,
          null,
          8.991792791176152,
          8.977151,
          8.975391830839248,
          null,
          9.863297083799932,
          9.80559,
          9.857494301644262,
          null,
          9.177363207491604,
          9.29778,
          9.250303791337819,
          null,
          8.129221583991676,
          8.15351,
          8.091247087478218,
          null,
          7.842064856950023,
          7.8142,
          7.89109207641519,
          null,
          8.06030211705671,
          8.078402,
          8.052297614430378,
          null,
          5.086146244444267,
          5.14865,
          5.127342570707838,
          null,
          3.2115021309177547,
          3.31935,
          3.247143366013457,
          null,
          6.308237029438641,
          6.44942,
          6.337212975981197,
          null,
          3.836542093385806,
          3.82441,
          3.9112782829844726,
          null,
          9.901959228687206,
          9.913721,
          9.974128215090067,
          null,
          7.2992633319783335,
          7.46158,
          7.36365067608025,
          null,
          11.84713755766913,
          11.80831,
          11.877560249417941,
          null,
          9.198717092165172,
          9.24632,
          9.155043856023639,
          null,
          7.189959334487397,
          7.28955,
          7.225887866503467,
          null,
          6.156111815965841,
          6.21258,
          6.149192269638158,
          null,
          3.103375028857795,
          3.14531,
          3.1053169303063646,
          null,
          12.221934480656023,
          12.30374,
          12.21429217736147,
          null,
          12.267690807818404,
          12.34282,
          12.224661937626902,
          null,
          11.25217039187243,
          11.39218,
          11.31107241691568,
          null,
          11.883379911837354,
          11.85718,
          11.911504228223032,
          null,
          3.9294432249065787,
          3.86147,
          3.8716021463479047,
          null,
          9.955897222438885,
          9.86759,
          9.853937597512072,
          null,
          4.721105669672757,
          4.61732,
          4.729295273600655,
          null,
          3.0767790696943047,
          3.13677,
          3.1196478744587615,
          null,
          9.121935376325604,
          9.14769,
          9.090174701776075,
          null,
          6.340760421199267,
          6.52226,
          6.409301257921744,
          null,
          4.97132442303799,
          4.967591,
          4.98213027585024,
          null,
          12.04652078194508,
          12.040866,
          12.012170330870296,
          null,
          7.9787038275452336,
          7.937658,
          7.931761562873787,
          null,
          1.7689119761109495,
          1.68776,
          1.7826537982375656,
          null,
          4.190562558105533,
          4.26287,
          4.186967242358873,
          null,
          2.9911719523595215,
          2.989938,
          2.994377159930687,
          null,
          3.1313635444774874,
          3.14286,
          3.073809762839228,
          null,
          4.090904837652549,
          4.094424,
          4.044705440732398,
          null,
          11.168246155743836,
          11.21227,
          11.13661271268763,
          null,
          5.08120051760462,
          5.14942,
          5.133394159556682,
          null,
          3.2080352111261066,
          3.35261,
          3.298377779864702,
          null,
          2.2106339552339866,
          2.29833,
          2.2178229450305773,
          null,
          2.2384235995872657,
          2.3624,
          2.2820496369490466,
          null,
          8.066014853816965,
          8.090423,
          8.06384925067344,
          null,
          1.137468955238174,
          1.23623,
          1.2018008920768728,
          null,
          2.2366600303557087,
          2.339,
          2.250206490576437,
          null,
          6.308617573650858,
          6.4188,
          6.292856464598059,
          null,
          6.258058343112565,
          6.34155,
          6.232470448109778,
          null,
          8.806618443619076,
          8.7467,
          8.829596040887967,
          null,
          11.077597149080235,
          11.097793,
          11.062851634641053,
          null,
          11.244520790921044,
          11.338940000000001,
          11.242259558945452,
          null,
          8.17354311954474,
          8.28454,
          8.235108797464205,
          null,
          9.061479905805566,
          9.079259,
          9.052350635735912,
          null,
          9.335085339602665,
          9.50136,
          9.384960084983001,
          null
         ],
         "y": [
          1983,
          1982.81012,
          null,
          1982,
          1982.06077,
          null,
          1981,
          1981.034812,
          null,
          1984,
          1983.51202,
          null,
          1981,
          1981.51455,
          null,
          1982,
          1981.77858,
          null,
          1982,
          1981.74829,
          null,
          1984,
          1984.26554,
          null,
          1984,
          1983.983342,
          null,
          1981,
          1981.37801,
          null,
          1980,
          1979.8929,
          null,
          1985,
          1984.47084,
          null,
          1983,
          1982.82406,
          null,
          1980,
          1979.919259,
          null,
          1980,
          1980.084845,
          null,
          1983,
          1982.955253,
          null,
          1982,
          1982.36558,
          null,
          1984,
          1983.69114,
          null,
          1981,
          1981.27711,
          null,
          1980,
          1980.18396,
          null,
          1983,
          1983.1546,
          null,
          1982,
          1982.25916,
          null,
          1982,
          1982.098004,
          null,
          1982,
          1981.902267,
          null,
          1985,
          1984.82898,
          null,
          1980,
          1979.75283,
          null,
          1982,
          1982.059816,
          null,
          1985,
          1985.31314,
          null,
          1984,
          1983.79423,
          null,
          1982,
          1981.76482,
          null,
          1983,
          1982.952297,
          null,
          1983,
          1983.054631,
          null,
          1980,
          1979.926013,
          null,
          1985,
          1984.77649,
          null,
          1984,
          1984.12775,
          null,
          1984,
          1984.23998,
          null,
          1981,
          1981.32719,
          null,
          1983,
          1982.910446,
          null,
          1984,
          1983.7512,
          null,
          1984,
          1983.73139,
          null,
          1981,
          1980.909775,
          null,
          1982,
          1981.913382,
          null,
          1984,
          1983.53885,
          null,
          1980,
          1980.13195,
          null,
          1984,
          1984.30707,
          null,
          1981,
          1981.30004,
          null,
          1984,
          1983.62917,
          null,
          1985,
          1984.69391,
          null,
          1983,
          1982.961873,
          null,
          1980,
          1980.069029,
          null,
          1985,
          1985.26563,
          null,
          1983,
          1983.31379,
          null,
          1980,
          1979.70561,
          null,
          1983,
          1982.929955,
          null,
          1983,
          1983.1272,
          null,
          1983,
          1982.88825,
          null,
          1983,
          1982.85952,
          null,
          1980,
          1980.20161,
          null,
          1980,
          1979.87242,
          null,
          1984,
          1983.65088,
          null,
          1985,
          1985.10048,
          null,
          1985,
          1985.26292,
          null,
          1980,
          1979.912763,
          null,
          1985,
          1985.18939,
          null,
          1985,
          1984.79052,
          null,
          1980,
          1979.75725,
          null,
          1980,
          1979.81392,
          null,
          1983,
          1982.78708,
          null,
          1983,
          1982.79749,
          null,
          1981,
          1981.41883,
          null,
          1981,
          1980.43358,
          null,
          1984,
          1984.040848,
          null,
          1983,
          1982.926418,
          null,
          1981,
          1981.079922,
          null,
          1983,
          1983.028277,
          null,
          1983,
          1982.64456,
          null,
          1980,
          1980.18505,
          null,
          1982,
          1981.76109,
          null,
          1981,
          1981.039006,
          null,
          1983,
          1982.79925,
          null,
          1981,
          1980.82632,
          null,
          1980,
          1979.8588,
          null,
          1983,
          1982.63581,
          null,
          1984,
          1983.64832,
          null,
          1984,
          1983.68624,
          null,
          1982,
          1981.85175,
          null,
          1981,
          1981.21282,
          null,
          1981,
          1980.82492,
          null,
          1982,
          1982.033719,
          null,
          1980,
          1979.9905371,
          null,
          1984,
          1984.037241,
          null,
          1983,
          1983.20968,
          null,
          1980,
          1979.71297,
          null,
          1983,
          1982.86295,
          null,
          1981,
          1981.28186,
          null,
          1983,
          1983.49685,
          null,
          1982,
          1981.960092,
          null,
          1981,
          1980.7911,
          null,
          1985,
          1985.15477,
          null,
          1980,
          1979.666,
          null,
          1984,
          1983.947343,
          null,
          1980,
          1980.16739,
          null,
          1982,
          1982.22875,
          null,
          1982,
          1981.933036,
          null,
          1980,
          1980.01752,
          null,
          1982,
          1981.984381,
          null,
          1982,
          1982.28046,
          null,
          1985,
          1985.22513,
          null,
          1980,
          1980.15415,
          null,
          1984,
          1983.74566,
          null,
          1985,
          1984.55976,
          null,
          1985,
          1984.964968,
          null,
          1980,
          1979.78741,
          null,
          1983,
          1983.010553,
          null,
          1983,
          1982.68651,
          null,
          1982,
          1981.933988,
          null,
          1982,
          1982.076804,
          null,
          1985,
          1985.12469,
          null,
          1981,
          1980.88803,
          null,
          1980,
          1980.071855,
          null,
          1980,
          1980.011019,
          null,
          1981,
          1980.69999,
          null,
          1984,
          1984.044487,
          null,
          1981,
          1980.75696,
          null,
          1982.8729393198257,
          1982.81012,
          1982.8543579810753,
          null,
          1982.0229346164745,
          1982.06077,
          1982.0643423111865,
          null,
          1981.055751309353,
          1981.034812,
          1980.9942451429383,
          null,
          1983.5964385094358,
          1983.51202,
          1983.7027322136187,
          null,
          1981.3246934720385,
          1981.51455,
          1981.4142952251466,
          null,
          1981.824980140535,
          1981.77858,
          1981.8570199035214,
          null,
          1981.8184161966649,
          1981.74829,
          1981.820081821082,
          null,
          1984.172775399819,
          1984.26554,
          1984.208589013067,
          null,
          1984.0055857053767,
          1983.983342,
          1983.9704903344295,
          null,
          1981.2723884024056,
          1981.37801,
          1981.2705036730442,
          null,
          1979.9028943243418,
          1979.8929,
          1979.94329032347,
          null,
          1984.5983747096964,
          1984.47084,
          1984.6416539386328,
          null,
          1982.882821780762,
          1982.82406,
          1982.8644959310584,
          null,
          1979.946453302838,
          1979.919259,
          1979.937587730299,
          null,
          1980.0393371963698,
          1980.084845,
          1980.082515871384,
          null,
          1982.9423596654215,
          1982.955253,
          1982.99337539,
          null,
          1982.2555679764585,
          1982.36558,
          1982.2694723265572,
          null,
          1983.7519818821456,
          1983.69114,
          1983.8044381955679,
          null,
          1981.1896386081733,
          1981.27711,
          1981.2083424585392,
          null,
          1980.1330824912936,
          1980.18396,
          1980.1311179959946,
          null,
          1983.1434549306814,
          1983.1546,
          1983.0785791818148,
          null,
          1982.1961747420266,
          1982.25916,
          1982.1760268142116,
          null,
          1982.0442072641115,
          1982.098004,
          1982.096544554524,
          null,
          1981.910448724875,
          1981.902267,
          1981.9491886624692,
          null,
          1984.8303891491491,
          1984.82898,
          1984.923994590055,
          null,
          1979.7750989992962,
          1979.75283,
          1979.8699192957513,
          null,
          1982.0316944427605,
          1982.059816,
          1982.0542123649566,
          null,
          1985.2148418635986,
          1985.31314,
          1985.2348849280377,
          null,
          1983.7993929748486,
          1983.79423,
          1983.9050833554988,
          null,
          1981.800593775375,
          1981.76482,
          1981.8616443709589,
          null,
          1982.921746349829,
          1982.952297,
          1983.0097433444246,
          null,
          1983.0585426051432,
          1983.054631,
          1983.0199175863172,
          null,
          1979.9432791972692,
          1979.926013,
          1979.9504618254912,
          null,
          1984.7834403977097,
          1984.77649,
          1984.8955580208933,
          null,
          1984.0733831373975,
          1984.12775,
          1984.1100894232195,
          null,
          1984.1603372272746,
          1984.23998,
          1984.184318311644,
          null,
          1981.214218988313,
          1981.32719,
          1981.25568619453,
          null,
          1982.9383029858648,
          1982.910446,
          1982.9330809539124,
          null,
          1983.7858687742116,
          1983.7512,
          1983.8568085402194,
          null,
          1983.799684983372,
          1983.73139,
          1983.8145415175495,
          null,
          1980.9176644966606,
          1980.909775,
          1980.9527557633658,
          null,
          1981.8670462395582,
          1981.913382,
          1982.0085543376981,
          null,
          1983.639341251596,
          1983.53885,
          1983.698362299649,
          null,
          1980.0699790645847,
          1980.13195,
          1980.1195254706274,
          null,
          1984.2027711736694,
          1984.30707,
          1984.238237978492,
          null,
          1981.2163991526622,
          1981.30004,
          1981.2145136229735,
          null,
          1983.7126643388906,
          1983.62917,
          1983.754755389849,
          null,
          1984.752818731715,
          1984.69391,
          1984.8075795768627,
          null,
          1982.9480307339009,
          1982.961873,
          1982.9972118624307,
          null,
          1980.0536077612762,
          1980.069029,
          1980.0455306135716,
          null,
          1985.1825697487516,
          1985.26563,
          1985.198923920733,
          null,
          1983.1992938723463,
          1983.31379,
          1983.2513664391677,
          null,
          1979.7634951865894,
          1979.70561,
          1979.8137064797907,
          null,
          1982.9330123579934,
          1982.929955,
          1982.9663901037804,
          null,
          1983.0466020166625,
          1983.1272,
          1983.1360806425191,
          null,
          1982.8877524224217,
          1982.88825,
          1982.951753967802,
          null,
          1982.8901612044392,
          1982.85952,
          1982.9080836071817,
          null,
          1980.1185782223793,
          1980.20161,
          1980.1709709200547,
          null,
          1979.8806052092264,
          1979.87242,
          1979.9361663815096,
          null,
          1983.7437732848548,
          1983.65088,
          1983.7548260078065,
          null,
          1985.0583287674056,
          1985.10048,
          1985.0859790438726,
          null,
          1985.13772659482,
          1985.26292,
          1985.2398750148657,
          null,
          1979.9672439038127,
          1979.912763,
          1979.907467675283,
          null,
          1985.1119414454631,
          1985.18939,
          1985.1600575232665,
          null,
          1984.8308115020382,
          1984.79052,
          1984.8683365840832,
          null,
          1979.7799023508442,
          1979.75725,
          1979.8714638793736,
          null,
          1979.8295274665807,
          1979.81392,
          1979.903227335145,
          null,
          1982.8282396848401,
          1982.78708,
          1982.8659679268505,
          null,
          1982.8039728193237,
          1982.79749,
          1982.9051854722575,
          null,
          1981.3043267896421,
          1981.41883,
          1981.2971903341397,
          null,
          1980.5573276241425,
          1980.43358,
          1980.6291887924165,
          null,
          1984.0429935993127,
          1984.040848,
          1984.0156716621832,
          null,
          1982.9338143446537,
          1982.926418,
          1982.9605083328,
          null,
          1981.0597358113848,
          1981.079922,
          1981.055046920432,
          null,
          1983.0402531343477,
          1983.028277,
          1983.0003578527094,
          null,
          1982.7142072760557,
          1982.64456,
          1982.7753153310234,
          null,
          1980.1171319104965,
          1980.18505,
          1980.1486340178176,
          null,
          1981.8475047919985,
          1981.76109,
          1981.8093763864206,
          null,
          1981.019965385907,
          1981.039006,
          1981.036054423873,
          null,
          1982.8405905997952,
          1982.79925,
          1982.8710953763784,
          null,
          1980.842514504482,
          1980.82632,
          1980.9080489841447,
          null,
          1979.8524921715725,
          1979.8588,
          1979.9447185872605,
          null,
          1982.756494591759,
          1982.63581,
          1982.7204614015793,
          null,
          1983.7563140770471,
          1983.64832,
          1983.7386085834796,
          null,
          1983.7273304896823,
          1983.68624,
          1983.8220522843362,
          null,
          1981.9132113816918,
          1981.85175,
          1981.8738742769272,
          null,
          1981.127550464422,
          1981.21282,
          1981.1780983054446,
          null,
          1980.844566835464,
          1980.82492,
          1980.9039859949642,
          null,
          1982.0024013587354,
          1982.033719,
          1982.0460253439765,
          null,
          1979.9782950810823,
          1979.9905371,
          1980.0081144492983,
          null,
          1983.9955769126327,
          1984.037241,
          1984.057908031633,
          null,
          1983.1153941717216,
          1983.20968,
          1983.1857449790425,
          null,
          1979.7536459539403,
          1979.71297,
          1979.8341260298262,
          null,
          1982.9162396571646,
          1982.86295,
          1982.8869312670427,
          null,
          1981.216615486508,
          1981.28186,
          1981.1881874562353,
          null,
          1983.370370182562,
          1983.49685,
          1983.3431980502555,
          null,
          1982.0106076564675,
          1981.960092,
          1981.9320770953987,
          null,
          1980.8359571080439,
          1980.7911,
          1980.8640239650454,
          null,
          1985.0959852454341,
          1985.15477,
          1985.1262930184148,
          null,
          1979.7065701685867,
          1979.666,
          1979.8137442326188,
          null,
          1983.9655127775475,
          1983.947343,
          1983.9588620590523,
          null,
          1980.116008357109,
          1980.16739,
          1980.124394554215,
          null,
          1982.170660259831,
          1982.22875,
          1982.157866927966,
          null,
          1981.983951383863,
          1981.933036,
          1981.9198759621318,
          null,
          1979.9856089250625,
          1980.01752,
          1980.039553026108,
          null,
          1981.9898165397178,
          1981.984381,
          1981.9877516957085,
          null,
          1982.1867378429697,
          1982.28046,
          1982.216054441575,
          null,
          1985.1519756270807,
          1985.22513,
          1985.1713525730888,
          null,
          1980.0889137300046,
          1980.15415,
          1980.132474099499,
          null,
          1983.8020290314066,
          1983.74566,
          1983.832691821296,
          null,
          1984.647687166991,
          1984.55976,
          1984.720047000634,
          null,
          1984.94423333276,
          1984.964968,
          1985.0054542543749,
          null,
          1979.8101563462935,
          1979.78741,
          1979.884525206258,
          null,
          1982.998300080906,
          1983.010553,
          1983.016855973358,
          null,
          1982.7506466463697,
          1982.68651,
          1982.7991238974444,
          null,
          1981.9178138482089,
          1981.933988,
          1981.9873807453612,
          null,
          1982.0121809435786,
          1982.076804,
          1982.0981237651933,
          null,
          1985.0544938241485,
          1985.12469,
          1985.1245840121203,
          null,
          1980.9455853255163,
          1980.88803,
          1980.8936051041335,
          null,
          1980.041564363257,
          1980.071855,
          1980.0616326687827,
          null,
          1979.97313536589,
          1980.011019,
          1980.042689950317,
          null,
          1980.755369631474,
          1980.69999,
          1980.8137606784233,
          null,
          1984.0238133159517,
          1984.044487,
          1984.0400782206757,
          null,
          1980.7740323026494,
          1980.75696,
          1980.8769174340841,
          null
         ]
        }
       ],
       "layout": {
        "autosize": true,
        "hovermode": "closest",
        "template": {
         "data": {
          "bar": [
           {
            "error_x": {
             "color": "#2a3f5f"
            },
            "error_y": {
             "color": "#2a3f5f"
            },
            "marker": {
             "line": {
              "color": "#E5ECF6",
              "width": 0.5
             },
             "pattern": {
              "fillmode": "overlay",
              "size": 10,
              "solidity": 0.2
             }
            },
            "type": "bar"
           }
          ],
          "barpolar": [
           {
            "marker": {
             "line": {
              "color": "#E5ECF6",
              "width": 0.5
             },
             "pattern": {
              "fillmode": "overlay",
              "size": 10,
              "solidity": 0.2
             }
            },
            "type": "barpolar"
           }
          ],
          "carpet": [
           {
            "aaxis": {
             "endlinecolor": "#2a3f5f",
             "gridcolor": "white",
             "linecolor": "white",
             "minorgridcolor": "white",
             "startlinecolor": "#2a3f5f"
            },
            "baxis": {
             "endlinecolor": "#2a3f5f",
             "gridcolor": "white",
             "linecolor": "white",
             "minorgridcolor": "white",
             "startlinecolor": "#2a3f5f"
            },
            "type": "carpet"
           }
          ],
          "choropleth": [
           {
            "colorbar": {
             "outlinewidth": 0,
             "ticks": ""
            },
            "type": "choropleth"
           }
          ],
          "contour": [
           {
            "colorbar": {
             "outlinewidth": 0,
             "ticks": ""
            },
            "colorscale": [
             [
              0,
              "#0d0887"
             ],
             [
              0.1111111111111111,
              "#46039f"
             ],
             [
              0.2222222222222222,
              "#7201a8"
             ],
             [
              0.3333333333333333,
              "#9c179e"
             ],
             [
              0.4444444444444444,
              "#bd3786"
             ],
             [
              0.5555555555555556,
              "#d8576b"
             ],
             [
              0.6666666666666666,
              "#ed7953"
             ],
             [
              0.7777777777777778,
              "#fb9f3a"
             ],
             [
              0.8888888888888888,
              "#fdca26"
             ],
             [
              1,
              "#f0f921"
             ]
            ],
            "type": "contour"
           }
          ],
          "contourcarpet": [
           {
            "colorbar": {
             "outlinewidth": 0,
             "ticks": ""
            },
            "type": "contourcarpet"
           }
          ],
          "heatmap": [
           {
            "colorbar": {
             "outlinewidth": 0,
             "ticks": ""
            },
            "colorscale": [
             [
              0,
              "#0d0887"
             ],
             [
              0.1111111111111111,
              "#46039f"
             ],
             [
              0.2222222222222222,
              "#7201a8"
             ],
             [
              0.3333333333333333,
              "#9c179e"
             ],
             [
              0.4444444444444444,
              "#bd3786"
             ],
             [
              0.5555555555555556,
              "#d8576b"
             ],
             [
              0.6666666666666666,
              "#ed7953"
             ],
             [
              0.7777777777777778,
              "#fb9f3a"
             ],
             [
              0.8888888888888888,
              "#fdca26"
             ],
             [
              1,
              "#f0f921"
             ]
            ],
            "type": "heatmap"
           }
          ],
          "heatmapgl": [
           {
            "colorbar": {
             "outlinewidth": 0,
             "ticks": ""
            },
            "colorscale": [
             [
              0,
              "#0d0887"
             ],
             [
              0.1111111111111111,
              "#46039f"
             ],
             [
              0.2222222222222222,
              "#7201a8"
             ],
             [
              0.3333333333333333,
              "#9c179e"
             ],
             [
              0.4444444444444444,
              "#bd3786"
             ],
             [
              0.5555555555555556,
              "#d8576b"
             ],
             [
              0.6666666666666666,
              "#ed7953"
             ],
             [
              0.7777777777777778,
              "#fb9f3a"
             ],
             [
              0.8888888888888888,
              "#fdca26"
             ],
             [
              1,
              "#f0f921"
             ]
            ],
            "type": "heatmapgl"
           }
          ],
          "histogram": [
           {
            "marker": {
             "pattern": {
              "fillmode": "overlay",
              "size": 10,
              "solidity": 0.2
             }
            },
            "type": "histogram"
           }
          ],
          "histogram2d": [
           {
            "colorbar": {
             "outlinewidth": 0,
             "ticks": ""
            },
            "colorscale": [
             [
              0,
              "#0d0887"
             ],
             [
              0.1111111111111111,
              "#46039f"
             ],
             [
              0.2222222222222222,
              "#7201a8"
             ],
             [
              0.3333333333333333,
              "#9c179e"
             ],
             [
              0.4444444444444444,
              "#bd3786"
             ],
             [
              0.5555555555555556,
              "#d8576b"
             ],
             [
              0.6666666666666666,
              "#ed7953"
             ],
             [
              0.7777777777777778,
              "#fb9f3a"
             ],
             [
              0.8888888888888888,
              "#fdca26"
             ],
             [
              1,
              "#f0f921"
             ]
            ],
            "type": "histogram2d"
           }
          ],
          "histogram2dcontour": [
           {
            "colorbar": {
             "outlinewidth": 0,
             "ticks": ""
            },
            "colorscale": [
             [
              0,
              "#0d0887"
             ],
             [
              0.1111111111111111,
              "#46039f"
             ],
             [
              0.2222222222222222,
              "#7201a8"
             ],
             [
              0.3333333333333333,
              "#9c179e"
             ],
             [
              0.4444444444444444,
              "#bd3786"
             ],
             [
              0.5555555555555556,
              "#d8576b"
             ],
             [
              0.6666666666666666,
              "#ed7953"
             ],
             [
              0.7777777777777778,
              "#fb9f3a"
             ],
             [
              0.8888888888888888,
              "#fdca26"
             ],
             [
              1,
              "#f0f921"
             ]
            ],
            "type": "histogram2dcontour"
           }
          ],
          "mesh3d": [
           {
            "colorbar": {
             "outlinewidth": 0,
             "ticks": ""
            },
            "type": "mesh3d"
           }
          ],
          "parcoords": [
           {
            "line": {
             "colorbar": {
              "outlinewidth": 0,
              "ticks": ""
             }
            },
            "type": "parcoords"
           }
          ],
          "pie": [
           {
            "automargin": true,
            "type": "pie"
           }
          ],
          "scatter": [
           {
            "fillpattern": {
             "fillmode": "overlay",
             "size": 10,
             "solidity": 0.2
            },
            "type": "scatter"
           }
          ],
          "scatter3d": [
           {
            "line": {
             "colorbar": {
              "outlinewidth": 0,
              "ticks": ""
             }
            },
            "marker": {
             "colorbar": {
              "outlinewidth": 0,
              "ticks": ""
             }
            },
            "type": "scatter3d"
           }
          ],
          "scattercarpet": [
           {
            "marker": {
             "colorbar": {
              "outlinewidth": 0,
              "ticks": ""
             }
            },
            "type": "scattercarpet"
           }
          ],
          "scattergeo": [
           {
            "marker": {
             "colorbar": {
              "outlinewidth": 0,
              "ticks": ""
             }
            },
            "type": "scattergeo"
           }
          ],
          "scattergl": [
           {
            "marker": {
             "colorbar": {
              "outlinewidth": 0,
              "ticks": ""
             }
            },
            "type": "scattergl"
           }
          ],
          "scattermapbox": [
           {
            "marker": {
             "colorbar": {
              "outlinewidth": 0,
              "ticks": ""
             }
            },
            "type": "scattermapbox"
           }
          ],
          "scatterpolar": [
           {
            "marker": {
             "colorbar": {
              "outlinewidth": 0,
              "ticks": ""
             }
            },
            "type": "scatterpolar"
           }
          ],
          "scatterpolargl": [
           {
            "marker": {
             "colorbar": {
              "outlinewidth": 0,
              "ticks": ""
             }
            },
            "type": "scatterpolargl"
           }
          ],
          "scatterternary": [
           {
            "marker": {
             "colorbar": {
              "outlinewidth": 0,
              "ticks": ""
             }
            },
            "type": "scatterternary"
           }
          ],
          "surface": [
           {
            "colorbar": {
             "outlinewidth": 0,
             "ticks": ""
            },
            "colorscale": [
             [
              0,
              "#0d0887"
             ],
             [
              0.1111111111111111,
              "#46039f"
             ],
             [
              0.2222222222222222,
              "#7201a8"
             ],
             [
              0.3333333333333333,
              "#9c179e"
             ],
             [
              0.4444444444444444,
              "#bd3786"
             ],
             [
              0.5555555555555556,
              "#d8576b"
             ],
             [
              0.6666666666666666,
              "#ed7953"
             ],
             [
              0.7777777777777778,
              "#fb9f3a"
             ],
             [
              0.8888888888888888,
              "#fdca26"
             ],
             [
              1,
              "#f0f921"
             ]
            ],
            "type": "surface"
           }
          ],
          "table": [
           {
            "cells": {
             "fill": {
              "color": "#EBF0F8"
             },
             "line": {
              "color": "white"
             }
            },
            "header": {
             "fill": {
              "color": "#C8D4E3"
             },
             "line": {
              "color": "white"
             }
            },
            "type": "table"
           }
          ]
         },
         "layout": {
          "annotationdefaults": {
           "arrowcolor": "#2a3f5f",
           "arrowhead": 0,
           "arrowwidth": 1
          },
          "autotypenumbers": "strict",
          "coloraxis": {
           "colorbar": {
            "outlinewidth": 0,
            "ticks": ""
           }
          },
          "colorscale": {
           "diverging": [
            [
             0,
             "#8e0152"
            ],
            [
             0.1,
             "#c51b7d"
            ],
            [
             0.2,
             "#de77ae"
            ],
            [
             0.3,
             "#f1b6da"
            ],
            [
             0.4,
             "#fde0ef"
            ],
            [
             0.5,
             "#f7f7f7"
            ],
            [
             0.6,
             "#e6f5d0"
            ],
            [
             0.7,
             "#b8e186"
            ],
            [
             0.8,
             "#7fbc41"
            ],
            [
             0.9,
             "#4d9221"
            ],
            [
             1,
             "#276419"
            ]
           ],
           "sequential": [
            [
             0,
             "#0d0887"
            ],
            [
             0.1111111111111111,
             "#46039f"
            ],
            [
             0.2222222222222222,
             "#7201a8"
            ],
            [
             0.3333333333333333,
             "#9c179e"
            ],
            [
             0.4444444444444444,
             "#bd3786"
            ],
            [
             0.5555555555555556,
             "#d8576b"
            ],
            [
             0.6666666666666666,
             "#ed7953"
            ],
            [
             0.7777777777777778,
             "#fb9f3a"
            ],
            [
             0.8888888888888888,
             "#fdca26"
            ],
            [
             1,
             "#f0f921"
            ]
           ],
           "sequentialminus": [
            [
             0,
             "#0d0887"
            ],
            [
             0.1111111111111111,
             "#46039f"
            ],
            [
             0.2222222222222222,
             "#7201a8"
            ],
            [
             0.3333333333333333,
             "#9c179e"
            ],
            [
             0.4444444444444444,
             "#bd3786"
            ],
            [
             0.5555555555555556,
             "#d8576b"
            ],
            [
             0.6666666666666666,
             "#ed7953"
            ],
            [
             0.7777777777777778,
             "#fb9f3a"
            ],
            [
             0.8888888888888888,
             "#fdca26"
            ],
            [
             1,
             "#f0f921"
            ]
           ]
          },
          "colorway": [
           "#636efa",
           "#EF553B",
           "#00cc96",
           "#ab63fa",
           "#FFA15A",
           "#19d3f3",
           "#FF6692",
           "#B6E880",
           "#FF97FF",
           "#FECB52"
          ],
          "font": {
           "color": "#2a3f5f"
          },
          "geo": {
           "bgcolor": "white",
           "lakecolor": "white",
           "landcolor": "#E5ECF6",
           "showlakes": true,
           "showland": true,
           "subunitcolor": "white"
          },
          "hoverlabel": {
           "align": "left"
          },
          "hovermode": "closest",
          "mapbox": {
           "style": "light"
          },
          "paper_bgcolor": "white",
          "plot_bgcolor": "#E5ECF6",
          "polar": {
           "angularaxis": {
            "gridcolor": "white",
            "linecolor": "white",
            "ticks": ""
           },
           "bgcolor": "#E5ECF6",
           "radialaxis": {
            "gridcolor": "white",
            "linecolor": "white",
            "ticks": ""
           }
          },
          "scene": {
           "xaxis": {
            "backgroundcolor": "#E5ECF6",
            "gridcolor": "white",
            "gridwidth": 2,
            "linecolor": "white",
            "showbackground": true,
            "ticks": "",
            "zerolinecolor": "white"
           },
           "yaxis": {
            "backgroundcolor": "#E5ECF6",
            "gridcolor": "white",
            "gridwidth": 2,
            "linecolor": "white",
            "showbackground": true,
            "ticks": "",
            "zerolinecolor": "white"
           },
           "zaxis": {
            "backgroundcolor": "#E5ECF6",
            "gridcolor": "white",
            "gridwidth": 2,
            "linecolor": "white",
            "showbackground": true,
            "ticks": "",
            "zerolinecolor": "white"
           }
          },
          "shapedefaults": {
           "line": {
            "color": "#2a3f5f"
           }
          },
          "ternary": {
           "aaxis": {
            "gridcolor": "white",
            "linecolor": "white",
            "ticks": ""
           },
           "baxis": {
            "gridcolor": "white",
            "linecolor": "white",
            "ticks": ""
           },
           "bgcolor": "#E5ECF6",
           "caxis": {
            "gridcolor": "white",
            "linecolor": "white",
            "ticks": ""
           }
          },
          "title": {
           "x": 0.05
          },
          "xaxis": {
           "automargin": true,
           "gridcolor": "white",
           "linecolor": "white",
           "ticks": "",
           "title": {
            "standoff": 15
           },
           "zerolinecolor": "white",
           "zerolinewidth": 2
          },
          "yaxis": {
           "automargin": true,
           "gridcolor": "white",
           "linecolor": "white",
           "ticks": "",
           "title": {
            "standoff": 15
           },
           "zerolinecolor": "white",
           "zerolinewidth": 2
          }
         }
        },
        "xaxis": {
         "autorange": true,
         "range": [
          0.9800015001792871,
          12.46206
         ],
         "type": "linear"
        },
        "yaxis": {
         "autorange": true,
         "range": [
          1979.3522699999999,
          1985.62687
         ],
         "type": "linear"
        }
       }
      },
      "image/png": "[encoded data removed]",
      "text/html": [
       "<div>                            <div id=\"7b468dd0-fcc8-4336-a95f-1f6b5369ef7c\" class=\"plotly-graph-div\" style=\"height:525px; width:100%;\"></div>            <script type=\"text/javascript\">                require([\"plotly\"], function(Plotly) {                    window.PLOTLYENV=window.PLOTLYENV || {};                                    if (document.getElementById(\"7b468dd0-fcc8-4336-a95f-1f6b5369ef7c\")) {                    Plotly.newPlot(                        \"7b468dd0-fcc8-4336-a95f-1f6b5369ef7c\",                        [{\"mode\":\"lines\",\"x\":[10,9.909453,null,6,6.20178,null,11,10.70028,null,11,11.51797,null,4,4.43663,null,3,3.15613,null,1,1.0081166,null,3,3.1745200000000002,null,11,10.82898,null,10,9.9908157,null,6,6.19685,null,3,3.2109,null,3,2.910698,null,4,3.956798,null,7,7.2104099999999995,null,12,12.2486,null,3,3.067756,null,7,7.25562,null,11,11.091144,null,8,7.990427,null,8,7.68386,null,2,1.901819,null,9,9.25504,null,5,5.18878,null,3,3.45614,null,12,12.46206,null,6,6.10973,null,10,10.09767,null,2,2.51503,null,1,1.2975,null,10,10.42881,null,5,4.81178,null,5,5.035001,null,2,2.54635,null,8,8.17887,null,1,1.11686,null,6,6.20207,null,6,5.974553,null,11,11.34569,null,1,1.072396,null,10,10.171,null,1,1.68957,null,11,11.28761,null,12,12.24144,null,9,9.17283,null,7,6.9908118,null,5,5.20511,null,10,10.26685,null,6,6.23966,null,8,7.96064,null,5,5.079694,null,5,5.25375,null,5,5.24468,null,11,11.16265,null,1,1.43603,null,6,6.31188,null,12,12.087336,null,2,2.25531,null,11,11.27075,null,4,4.05386,null,2,2.13474,null,3,3.49777,null,3,2.70871,null,7,7.23447,null,10,10.18286,null,4,4.44618,null,1,1.35914,null,7,7.18385,null,11,11.49321,null,5,4.965224,null,3,3.35018,null,5,4.86686,null,10,10.13008,null,9,8.977151,null,10,9.80559,null,9,9.29778,null,8,8.15351,null,8,7.8142,null,8,8.078402,null,5,5.14865,null,3,3.31935,null,6,6.44942,null,4,3.82441,null,10,9.913721,null,7,7.46158,null,12,11.80831,null,9,9.24632,null,7,7.28955,null,6,6.21258,null,3,3.14531,null,12,12.30374,null,12,12.34282,null,11,11.39218,null,12,11.85718,null,4,3.86147,null,10,9.86759,null,5,4.61732,null,3,3.13677,null,9,9.14769,null,6,6.52226,null,5,4.967591,null,12,12.040866,null,8,7.937658,null,2,1.68776,null,4,4.26287,null,3,2.989938,null,3,3.14286,null,4,4.094424,null,11,11.21227,null,5,5.14942,null,3,3.35261,null,2,2.29833,null,2,2.3624,null,8,8.090423,null,1,1.23623,null,2,2.339,null,6,6.4188,null,6,6.34155,null,9,8.7467,null,11,11.097793,null,11,11.338940000000001,null,8,8.28454,null,9,9.079259,null,9,9.50136,null,9.915496068875896,9.909453,9.954461739764684,null,6.151132016126321,6.20178,6.138661277660371,null,10.788345323259431,10.70028,10.781201480121739,null,11.321880527101428,11.51797,11.422019920825486,null,4.366336542720352,4.43663,4.260744663871398,null,3.08939670729445,3.15613,3.134834767375568,null,0.9800015001792871,1.0081166,1.0316554343451902,null,3.152567461803753,3.1745200000000002,3.0980754444885132,null,10.875482658137786,10.82898,10.878901081066298,null,10.032190935994677,9.9908157,9.954618715367575,null,6.130367345074441,6.19685,6.152345559484536,null,3.0971506341702075,3.2109,3.2057406615955437,null,2.917820421921403,2.910698,2.953925436331451,null,3.9606924656632816,3.956798,3.977261494698634,null,7.1597993924162795,7.2104099999999995,7.142388172979982,null,12.173926411735778,12.2486,12.183109036947796,null,3.086165773234899,3.067756,3.011144338836719,null,7.151867829242133,7.25562,7.215249634122691,null,11.093882957306418,11.091144,11.037016636156235,null,8.0120011109075,7.990427,7.974250295567771,null,7.788845221788029,7.68386,7.757119433293125,null,1.956088370463705,1.901819,1.9029056062571235,null,9.19319804083637,9.25504,9.173086435560487,null,5.1255334517141105,5.18878,5.1455894445147115,null,3.3100028969129482,3.45614,3.3450982678598815,null,12.306440552644148,12.46206,12.35716282393965,null,6.084933741684295,6.10973,6.072658775548403,null,10.10226612282265,10.09767,10.038006010214055,null,2.34872578738735,2.51503,2.39095227832263,null,1.1895015444026686,1.2975,1.2377633227870468,null,10.303030506115125,10.42881,10.312819738253353,null,4.870446154260302,4.81178,4.859235212790292,null,5.017542432270692,5.035001,5.032725458877231,null,2.369396204319666,2.54635,2.415263157660505,null,8.141553076268975,8.17887,8.115337232283041,null,1.108539654299082,1.11686,1.0592928579018932,null,6.1786765648437525,6.20207,6.111533222426923,null,5.972537925861736,5.974553,5.990915489010948,null,11.22270891387832,11.34569,11.273765680873991,null,1.0244259946980543,1.072396,1.0795480131172956,null,10.113536138324223,10.171,10.132051398783142,null,1.486287317613019,1.68957,1.5040623780777778,null,11.15921372487233,11.28761,11.253847278329129,null,12.186915051464778,12.24144,12.159837316717693,null,9.155615114928182,9.17283,9.09260063968156,null,7.02418794226253,6.9908118,6.962616107980454,null,5.109238495040336,5.20511,5.185337292890026,null,10.160216223541815,10.26685,10.223029590944154,null,6.168185919349358,6.23966,6.176010040552111,null,7.9788186830083285,7.96064,7.964653097924152,null,5.084482884085216,5.079694,5.029972397682236,null,5.214412649474914,5.25375,5.150019149010432,null,5.145496609865736,5.24468,5.205908995861926,null,11.109610658286984,11.16265,11.123984738850519,null,1.3261612366369135,1.43603,1.3000582592983185,null,6.212492374323792,6.31188,6.235424824933784,null,12.048301204660993,12.087336,12.077129398501633,null,2.204022527424919,2.25531,2.162649718767371,null,11.18133298791101,11.27075,11.207513945842319,null,4.002854624901976,4.05386,4.0744982683647075,null,2.1070656000830073,2.13474,2.0864458896821767,null,3.384421942070364,3.49777,3.330467580420475,null,2.781875875679632,2.70871,2.7997779624256043,null,7.187803639844633,7.23447,7.148938522877963,null,10.10981642832177,10.18286,10.152804256096083,null,4.2954907669996425,4.44618,4.345306000875003,null,1.238802705170278,1.35914,1.2769885701322914,null,7.110174374825489,7.18385,7.153868132175617,null,11.333391510983182,11.49321,11.374949010518126,null,5.0180021141628695,4.965224,4.932053136185401,null,3.1933434165411887,3.35018,3.3095796462907257,null,4.908584454303811,4.86686,4.900201951015051,null,10.085859477310596,10.13008,10.100959393022306,null,8.991792791176152,8.977151,8.975391830839248,null,9.863297083799932,9.80559,9.857494301644262,null,9.177363207491604,9.29778,9.250303791337819,null,8.129221583991676,8.15351,8.091247087478218,null,7.842064856950023,7.8142,7.89109207641519,null,8.06030211705671,8.078402,8.052297614430378,null,5.086146244444267,5.14865,5.127342570707838,null,3.2115021309177547,3.31935,3.247143366013457,null,6.308237029438641,6.44942,6.337212975981197,null,3.836542093385806,3.82441,3.9112782829844726,null,9.901959228687206,9.913721,9.974128215090067,null,7.2992633319783335,7.46158,7.36365067608025,null,11.84713755766913,11.80831,11.877560249417941,null,9.198717092165172,9.24632,9.155043856023639,null,7.189959334487397,7.28955,7.225887866503467,null,6.156111815965841,6.21258,6.149192269638158,null,3.103375028857795,3.14531,3.1053169303063646,null,12.221934480656023,12.30374,12.21429217736147,null,12.267690807818404,12.34282,12.224661937626902,null,11.25217039187243,11.39218,11.31107241691568,null,11.883379911837354,11.85718,11.911504228223032,null,3.9294432249065787,3.86147,3.8716021463479047,null,9.955897222438885,9.86759,9.853937597512072,null,4.721105669672757,4.61732,4.729295273600655,null,3.0767790696943047,3.13677,3.1196478744587615,null,9.121935376325604,9.14769,9.090174701776075,null,6.340760421199267,6.52226,6.409301257921744,null,4.97132442303799,4.967591,4.98213027585024,null,12.04652078194508,12.040866,12.012170330870296,null,7.9787038275452336,7.937658,7.931761562873787,null,1.7689119761109495,1.68776,1.7826537982375656,null,4.190562558105533,4.26287,4.186967242358873,null,2.9911719523595215,2.989938,2.994377159930687,null,3.1313635444774874,3.14286,3.073809762839228,null,4.090904837652549,4.094424,4.044705440732398,null,11.168246155743836,11.21227,11.13661271268763,null,5.08120051760462,5.14942,5.133394159556682,null,3.2080352111261066,3.35261,3.298377779864702,null,2.2106339552339866,2.29833,2.2178229450305773,null,2.2384235995872657,2.3624,2.2820496369490466,null,8.066014853816965,8.090423,8.06384925067344,null,1.137468955238174,1.23623,1.2018008920768728,null,2.2366600303557087,2.339,2.250206490576437,null,6.308617573650858,6.4188,6.292856464598059,null,6.258058343112565,6.34155,6.232470448109778,null,8.806618443619076,8.7467,8.829596040887967,null,11.077597149080235,11.097793,11.062851634641053,null,11.244520790921044,11.338940000000001,11.242259558945452,null,8.17354311954474,8.28454,8.235108797464205,null,9.061479905805566,9.079259,9.052350635735912,null,9.335085339602665,9.50136,9.384960084983001,null],\"y\":[1983,1982.81012,null,1982,1982.06077,null,1981,1981.034812,null,1984,1983.51202,null,1981,1981.51455,null,1982,1981.77858,null,1982,1981.74829,null,1984,1984.26554,null,1984,1983.983342,null,1981,1981.37801,null,1980,1979.8929,null,1985,1984.47084,null,1983,1982.82406,null,1980,1979.919259,null,1980,1980.084845,null,1983,1982.955253,null,1982,1982.36558,null,1984,1983.69114,null,1981,1981.27711,null,1980,1980.18396,null,1983,1983.1546,null,1982,1982.25916,null,1982,1982.098004,null,1982,1981.902267,null,1985,1984.82898,null,1980,1979.75283,null,1982,1982.059816,null,1985,1985.31314,null,1984,1983.79423,null,1982,1981.76482,null,1983,1982.952297,null,1983,1983.054631,null,1980,1979.926013,null,1985,1984.77649,null,1984,1984.12775,null,1984,1984.23998,null,1981,1981.32719,null,1983,1982.910446,null,1984,1983.7512,null,1984,1983.73139,null,1981,1980.909775,null,1982,1981.913382,null,1984,1983.53885,null,1980,1980.13195,null,1984,1984.30707,null,1981,1981.30004,null,1984,1983.62917,null,1985,1984.69391,null,1983,1982.961873,null,1980,1980.069029,null,1985,1985.26563,null,1983,1983.31379,null,1980,1979.70561,null,1983,1982.929955,null,1983,1983.1272,null,1983,1982.88825,null,1983,1982.85952,null,1980,1980.20161,null,1980,1979.87242,null,1984,1983.65088,null,1985,1985.10048,null,1985,1985.26292,null,1980,1979.912763,null,1985,1985.18939,null,1985,1984.79052,null,1980,1979.75725,null,1980,1979.81392,null,1983,1982.78708,null,1983,1982.79749,null,1981,1981.41883,null,1981,1980.43358,null,1984,1984.040848,null,1983,1982.926418,null,1981,1981.079922,null,1983,1983.028277,null,1983,1982.64456,null,1980,1980.18505,null,1982,1981.76109,null,1981,1981.039006,null,1983,1982.79925,null,1981,1980.82632,null,1980,1979.8588,null,1983,1982.63581,null,1984,1983.64832,null,1984,1983.68624,null,1982,1981.85175,null,1981,1981.21282,null,1981,1980.82492,null,1982,1982.033719,null,1980,1979.9905371,null,1984,1984.037241,null,1983,1983.20968,null,1980,1979.71297,null,1983,1982.86295,null,1981,1981.28186,null,1983,1983.49685,null,1982,1981.960092,null,1981,1980.7911,null,1985,1985.15477,null,1980,1979.666,null,1984,1983.947343,null,1980,1980.16739,null,1982,1982.22875,null,1982,1981.933036,null,1980,1980.01752,null,1982,1981.984381,null,1982,1982.28046,null,1985,1985.22513,null,1980,1980.15415,null,1984,1983.74566,null,1985,1984.55976,null,1985,1984.964968,null,1980,1979.78741,null,1983,1983.010553,null,1983,1982.68651,null,1982,1981.933988,null,1982,1982.076804,null,1985,1985.12469,null,1981,1980.88803,null,1980,1980.071855,null,1980,1980.011019,null,1981,1980.69999,null,1984,1984.044487,null,1981,1980.75696,null,1982.8729393198257,1982.81012,1982.8543579810753,null,1982.0229346164745,1982.06077,1982.0643423111865,null,1981.055751309353,1981.034812,1980.9942451429383,null,1983.5964385094358,1983.51202,1983.7027322136187,null,1981.3246934720385,1981.51455,1981.4142952251466,null,1981.824980140535,1981.77858,1981.8570199035214,null,1981.8184161966649,1981.74829,1981.820081821082,null,1984.172775399819,1984.26554,1984.208589013067,null,1984.0055857053767,1983.983342,1983.9704903344295,null,1981.2723884024056,1981.37801,1981.2705036730442,null,1979.9028943243418,1979.8929,1979.94329032347,null,1984.5983747096964,1984.47084,1984.6416539386328,null,1982.882821780762,1982.82406,1982.8644959310584,null,1979.946453302838,1979.919259,1979.937587730299,null,1980.0393371963698,1980.084845,1980.082515871384,null,1982.9423596654215,1982.955253,1982.99337539,null,1982.2555679764585,1982.36558,1982.2694723265572,null,1983.7519818821456,1983.69114,1983.8044381955679,null,1981.1896386081733,1981.27711,1981.2083424585392,null,1980.1330824912936,1980.18396,1980.1311179959946,null,1983.1434549306814,1983.1546,1983.0785791818148,null,1982.1961747420266,1982.25916,1982.1760268142116,null,1982.0442072641115,1982.098004,1982.096544554524,null,1981.910448724875,1981.902267,1981.9491886624692,null,1984.8303891491491,1984.82898,1984.923994590055,null,1979.7750989992962,1979.75283,1979.8699192957513,null,1982.0316944427605,1982.059816,1982.0542123649566,null,1985.2148418635986,1985.31314,1985.2348849280377,null,1983.7993929748486,1983.79423,1983.9050833554988,null,1981.800593775375,1981.76482,1981.8616443709589,null,1982.921746349829,1982.952297,1983.0097433444246,null,1983.0585426051432,1983.054631,1983.0199175863172,null,1979.9432791972692,1979.926013,1979.9504618254912,null,1984.7834403977097,1984.77649,1984.8955580208933,null,1984.0733831373975,1984.12775,1984.1100894232195,null,1984.1603372272746,1984.23998,1984.184318311644,null,1981.214218988313,1981.32719,1981.25568619453,null,1982.9383029858648,1982.910446,1982.9330809539124,null,1983.7858687742116,1983.7512,1983.8568085402194,null,1983.799684983372,1983.73139,1983.8145415175495,null,1980.9176644966606,1980.909775,1980.9527557633658,null,1981.8670462395582,1981.913382,1982.0085543376981,null,1983.639341251596,1983.53885,1983.698362299649,null,1980.0699790645847,1980.13195,1980.1195254706274,null,1984.2027711736694,1984.30707,1984.238237978492,null,1981.2163991526622,1981.30004,1981.2145136229735,null,1983.7126643388906,1983.62917,1983.754755389849,null,1984.752818731715,1984.69391,1984.8075795768627,null,1982.9480307339009,1982.961873,1982.9972118624307,null,1980.0536077612762,1980.069029,1980.0455306135716,null,1985.1825697487516,1985.26563,1985.198923920733,null,1983.1992938723463,1983.31379,1983.2513664391677,null,1979.7634951865894,1979.70561,1979.8137064797907,null,1982.9330123579934,1982.929955,1982.9663901037804,null,1983.0466020166625,1983.1272,1983.1360806425191,null,1982.8877524224217,1982.88825,1982.951753967802,null,1982.8901612044392,1982.85952,1982.9080836071817,null,1980.1185782223793,1980.20161,1980.1709709200547,null,1979.8806052092264,1979.87242,1979.9361663815096,null,1983.7437732848548,1983.65088,1983.7548260078065,null,1985.0583287674056,1985.10048,1985.0859790438726,null,1985.13772659482,1985.26292,1985.2398750148657,null,1979.9672439038127,1979.912763,1979.907467675283,null,1985.1119414454631,1985.18939,1985.1600575232665,null,1984.8308115020382,1984.79052,1984.8683365840832,null,1979.7799023508442,1979.75725,1979.8714638793736,null,1979.8295274665807,1979.81392,1979.903227335145,null,1982.8282396848401,1982.78708,1982.8659679268505,null,1982.8039728193237,1982.79749,1982.9051854722575,null,1981.3043267896421,1981.41883,1981.2971903341397,null,1980.5573276241425,1980.43358,1980.6291887924165,null,1984.0429935993127,1984.040848,1984.0156716621832,null,1982.9338143446537,1982.926418,1982.9605083328,null,1981.0597358113848,1981.079922,1981.055046920432,null,1983.0402531343477,1983.028277,1983.0003578527094,null,1982.7142072760557,1982.64456,1982.7753153310234,null,1980.1171319104965,1980.18505,1980.1486340178176,null,1981.8475047919985,1981.76109,1981.8093763864206,null,1981.019965385907,1981.039006,1981.036054423873,null,1982.8405905997952,1982.79925,1982.8710953763784,null,1980.842514504482,1980.82632,1980.9080489841447,null,1979.8524921715725,1979.8588,1979.9447185872605,null,1982.756494591759,1982.63581,1982.7204614015793,null,1983.7563140770471,1983.64832,1983.7386085834796,null,1983.7273304896823,1983.68624,1983.8220522843362,null,1981.9132113816918,1981.85175,1981.8738742769272,null,1981.127550464422,1981.21282,1981.1780983054446,null,1980.844566835464,1980.82492,1980.9039859949642,null,1982.0024013587354,1982.033719,1982.0460253439765,null,1979.9782950810823,1979.9905371,1980.0081144492983,null,1983.9955769126327,1984.037241,1984.057908031633,null,1983.1153941717216,1983.20968,1983.1857449790425,null,1979.7536459539403,1979.71297,1979.8341260298262,null,1982.9162396571646,1982.86295,1982.8869312670427,null,1981.216615486508,1981.28186,1981.1881874562353,null,1983.370370182562,1983.49685,1983.3431980502555,null,1982.0106076564675,1981.960092,1981.9320770953987,null,1980.8359571080439,1980.7911,1980.8640239650454,null,1985.0959852454341,1985.15477,1985.1262930184148,null,1979.7065701685867,1979.666,1979.8137442326188,null,1983.9655127775475,1983.947343,1983.9588620590523,null,1980.116008357109,1980.16739,1980.124394554215,null,1982.170660259831,1982.22875,1982.157866927966,null,1981.983951383863,1981.933036,1981.9198759621318,null,1979.9856089250625,1980.01752,1980.039553026108,null,1981.9898165397178,1981.984381,1981.9877516957085,null,1982.1867378429697,1982.28046,1982.216054441575,null,1985.1519756270807,1985.22513,1985.1713525730888,null,1980.0889137300046,1980.15415,1980.132474099499,null,1983.8020290314066,1983.74566,1983.832691821296,null,1984.647687166991,1984.55976,1984.720047000634,null,1984.94423333276,1984.964968,1985.0054542543749,null,1979.8101563462935,1979.78741,1979.884525206258,null,1982.998300080906,1983.010553,1983.016855973358,null,1982.7506466463697,1982.68651,1982.7991238974444,null,1981.9178138482089,1981.933988,1981.9873807453612,null,1982.0121809435786,1982.076804,1982.0981237651933,null,1985.0544938241485,1985.12469,1985.1245840121203,null,1980.9455853255163,1980.88803,1980.8936051041335,null,1980.041564363257,1980.071855,1980.0616326687827,null,1979.97313536589,1980.011019,1980.042689950317,null,1980.755369631474,1980.69999,1980.8137606784233,null,1984.0238133159517,1984.044487,1984.0400782206757,null,1980.7740323026494,1980.75696,1980.8769174340841,null],\"type\":\"scatter\"}],                        {\"hovermode\":\"closest\",\"template\":{\"data\":{\"histogram2dcontour\":[{\"type\":\"histogram2dcontour\",\"colorbar\":{\"outlinewidth\":0,\"ticks\":\"\"},\"colorscale\":[[0.0,\"#0d0887\"],[0.1111111111111111,\"#46039f\"],[0.2222222222222222,\"#7201a8\"],[0.3333333333333333,\"#9c179e\"],[0.4444444444444444,\"#bd3786\"],[0.5555555555555556,\"#d8576b\"],[0.6666666666666666,\"#ed7953\"],[0.7777777777777778,\"#fb9f3a\"],[0.8888888888888888,\"#fdca26\"],[1.0,\"#f0f921\"]]}],\"choropleth\":[{\"type\":\"choropleth\",\"colorbar\":{\"outlinewidth\":0,\"ticks\":\"\"}}],\"histogram2d\":[{\"type\":\"histogram2d\",\"colorbar\":{\"outlinewidth\":0,\"ticks\":\"\"},\"colorscale\":[[0.0,\"#0d0887\"],[0.1111111111111111,\"#46039f\"],[0.2222222222222222,\"#7201a8\"],[0.3333333333333333,\"#9c179e\"],[0.4444444444444444,\"#bd3786\"],[0.5555555555555556,\"#d8576b\"],[0.6666666666666666,\"#ed7953\"],[0.7777777777777778,\"#fb9f3a\"],[0.8888888888888888,\"#fdca26\"],[1.0,\"#f0f921\"]]}],\"heatmap\":[{\"type\":\"heatmap\",\"colorbar\":{\"outlinewidth\":0,\"ticks\":\"\"},\"colorscale\":[[0.0,\"#0d0887\"],[0.1111111111111111,\"#46039f\"],[0.2222222222222222,\"#7201a8\"],[0.3333333333333333,\"#9c179e\"],[0.4444444444444444,\"#bd3786\"],[0.5555555555555556,\"#d8576b\"],[0.6666666666666666,\"#ed7953\"],[0.7777777777777778,\"#fb9f3a\"],[0.8888888888888888,\"#fdca26\"],[1.0,\"#f0f921\"]]}],\"heatmapgl\":[{\"type\":\"heatmapgl\",\"colorbar\":{\"outlinewidth\":0,\"ticks\":\"\"},\"colorscale\":[[0.0,\"#0d0887\"],[0.1111111111111111,\"#46039f\"],[0.2222222222222222,\"#7201a8\"],[0.3333333333333333,\"#9c179e\"],[0.4444444444444444,\"#bd3786\"],[0.5555555555555556,\"#d8576b\"],[0.6666666666666666,\"#ed7953\"],[0.7777777777777778,\"#fb9f3a\"],[0.8888888888888888,\"#fdca26\"],[1.0,\"#f0f921\"]]}],\"contourcarpet\":[{\"type\":\"contourcarpet\",\"colorbar\":{\"outlinewidth\":0,\"ticks\":\"\"}}],\"contour\":[{\"type\":\"contour\",\"colorbar\":{\"outlinewidth\":0,\"ticks\":\"\"},\"colorscale\":[[0.0,\"#0d0887\"],[0.1111111111111111,\"#46039f\"],[0.2222222222222222,\"#7201a8\"],[0.3333333333333333,\"#9c179e\"],[0.4444444444444444,\"#bd3786\"],[0.5555555555555556,\"#d8576b\"],[0.6666666666666666,\"#ed7953\"],[0.7777777777777778,\"#fb9f3a\"],[0.8888888888888888,\"#fdca26\"],[1.0,\"#f0f921\"]]}],\"surface\":[{\"type\":\"surface\",\"colorbar\":{\"outlinewidth\":0,\"ticks\":\"\"},\"colorscale\":[[0.0,\"#0d0887\"],[0.1111111111111111,\"#46039f\"],[0.2222222222222222,\"#7201a8\"],[0.3333333333333333,\"#9c179e\"],[0.4444444444444444,\"#bd3786\"],[0.5555555555555556,\"#d8576b\"],[0.6666666666666666,\"#ed7953\"],[0.7777777777777778,\"#fb9f3a\"],[0.8888888888888888,\"#fdca26\"],[1.0,\"#f0f921\"]]}],\"mesh3d\":[{\"type\":\"mesh3d\",\"colorbar\":{\"outlinewidth\":0,\"ticks\":\"\"}}],\"scatter\":[{\"fillpattern\":{\"fillmode\":\"overlay\",\"size\":10,\"solidity\":0.2},\"type\":\"scatter\"}],\"parcoords\":[{\"type\":\"parcoords\",\"line\":{\"colorbar\":{\"outlinewidth\":0,\"ticks\":\"\"}}}],\"scatterpolargl\":[{\"type\":\"scatterpolargl\",\"marker\":{\"colorbar\":{\"outlinewidth\":0,\"ticks\":\"\"}}}],\"bar\":[{\"error_x\":{\"color\":\"#2a3f5f\"},\"error_y\":{\"color\":\"#2a3f5f\"},\"marker\":{\"line\":{\"color\":\"#E5ECF6\",\"width\":0.5},\"pattern\":{\"fillmode\":\"overlay\",\"size\":10,\"solidity\":0.2}},\"type\":\"bar\"}],\"scattergeo\":[{\"type\":\"scattergeo\",\"marker\":{\"colorbar\":{\"outlinewidth\":0,\"ticks\":\"\"}}}],\"scatterpolar\":[{\"type\":\"scatterpolar\",\"marker\":{\"colorbar\":{\"outlinewidth\":0,\"ticks\":\"\"}}}],\"histogram\":[{\"marker\":{\"pattern\":{\"fillmode\":\"overlay\",\"size\":10,\"solidity\":0.2}},\"type\":\"histogram\"}],\"scattergl\":[{\"type\":\"scattergl\",\"marker\":{\"colorbar\":{\"outlinewidth\":0,\"ticks\":\"\"}}}],\"scatter3d\":[{\"type\":\"scatter3d\",\"line\":{\"colorbar\":{\"outlinewidth\":0,\"ticks\":\"\"}},\"marker\":{\"colorbar\":{\"outlinewidth\":0,\"ticks\":\"\"}}}],\"scattermapbox\":[{\"type\":\"scattermapbox\",\"marker\":{\"colorbar\":{\"outlinewidth\":0,\"ticks\":\"\"}}}],\"scatterternary\":[{\"type\":\"scatterternary\",\"marker\":{\"colorbar\":{\"outlinewidth\":0,\"ticks\":\"\"}}}],\"scattercarpet\":[{\"type\":\"scattercarpet\",\"marker\":{\"colorbar\":{\"outlinewidth\":0,\"ticks\":\"\"}}}],\"carpet\":[{\"aaxis\":{\"endlinecolor\":\"#2a3f5f\",\"gridcolor\":\"white\",\"linecolor\":\"white\",\"minorgridcolor\":\"white\",\"startlinecolor\":\"#2a3f5f\"},\"baxis\":{\"endlinecolor\":\"#2a3f5f\",\"gridcolor\":\"white\",\"linecolor\":\"white\",\"minorgridcolor\":\"white\",\"startlinecolor\":\"#2a3f5f\"},\"type\":\"carpet\"}],\"table\":[{\"cells\":{\"fill\":{\"color\":\"#EBF0F8\"},\"line\":{\"color\":\"white\"}},\"header\":{\"fill\":{\"color\":\"#C8D4E3\"},\"line\":{\"color\":\"white\"}},\"type\":\"table\"}],\"barpolar\":[{\"marker\":{\"line\":{\"color\":\"#E5ECF6\",\"width\":0.5},\"pattern\":{\"fillmode\":\"overlay\",\"size\":10,\"solidity\":0.2}},\"type\":\"barpolar\"}],\"pie\":[{\"automargin\":true,\"type\":\"pie\"}]},\"layout\":{\"autotypenumbers\":\"strict\",\"colorway\":[\"#636efa\",\"#EF553B\",\"#00cc96\",\"#ab63fa\",\"#FFA15A\",\"#19d3f3\",\"#FF6692\",\"#B6E880\",\"#FF97FF\",\"#FECB52\"],\"font\":{\"color\":\"#2a3f5f\"},\"hovermode\":\"closest\",\"hoverlabel\":{\"align\":\"left\"},\"paper_bgcolor\":\"white\",\"plot_bgcolor\":\"#E5ECF6\",\"polar\":{\"bgcolor\":\"#E5ECF6\",\"angularaxis\":{\"gridcolor\":\"white\",\"linecolor\":\"white\",\"ticks\":\"\"},\"radialaxis\":{\"gridcolor\":\"white\",\"linecolor\":\"white\",\"ticks\":\"\"}},\"ternary\":{\"bgcolor\":\"#E5ECF6\",\"aaxis\":{\"gridcolor\":\"white\",\"linecolor\":\"white\",\"ticks\":\"\"},\"baxis\":{\"gridcolor\":\"white\",\"linecolor\":\"white\",\"ticks\":\"\"},\"caxis\":{\"gridcolor\":\"white\",\"linecolor\":\"white\",\"ticks\":\"\"}},\"coloraxis\":{\"colorbar\":{\"outlinewidth\":0,\"ticks\":\"\"}},\"colorscale\":{\"sequential\":[[0.0,\"#0d0887\"],[0.1111111111111111,\"#46039f\"],[0.2222222222222222,\"#7201a8\"],[0.3333333333333333,\"#9c179e\"],[0.4444444444444444,\"#bd3786\"],[0.5555555555555556,\"#d8576b\"],[0.6666666666666666,\"#ed7953\"],[0.7777777777777778,\"#fb9f3a\"],[0.8888888888888888,\"#fdca26\"],[1.0,\"#f0f921\"]],\"sequentialminus\":[[0.0,\"#0d0887\"],[0.1111111111111111,\"#46039f\"],[0.2222222222222222,\"#7201a8\"],[0.3333333333333333,\"#9c179e\"],[0.4444444444444444,\"#bd3786\"],[0.5555555555555556,\"#d8576b\"],[0.6666666666666666,\"#ed7953\"],[0.7777777777777778,\"#fb9f3a\"],[0.8888888888888888,\"#fdca26\"],[1.0,\"#f0f921\"]],\"diverging\":[[0,\"#8e0152\"],[0.1,\"#c51b7d\"],[0.2,\"#de77ae\"],[0.3,\"#f1b6da\"],[0.4,\"#fde0ef\"],[0.5,\"#f7f7f7\"],[0.6,\"#e6f5d0\"],[0.7,\"#b8e186\"],[0.8,\"#7fbc41\"],[0.9,\"#4d9221\"],[1,\"#276419\"]]},\"xaxis\":{\"gridcolor\":\"white\",\"linecolor\":\"white\",\"ticks\":\"\",\"title\":{\"standoff\":15},\"zerolinecolor\":\"white\",\"automargin\":true,\"zerolinewidth\":2},\"yaxis\":{\"gridcolor\":\"white\",\"linecolor\":\"white\",\"ticks\":\"\",\"title\":{\"standoff\":15},\"zerolinecolor\":\"white\",\"automargin\":true,\"zerolinewidth\":2},\"scene\":{\"xaxis\":{\"backgroundcolor\":\"#E5ECF6\",\"gridcolor\":\"white\",\"linecolor\":\"white\",\"showbackground\":true,\"ticks\":\"\",\"zerolinecolor\":\"white\",\"gridwidth\":2},\"yaxis\":{\"backgroundcolor\":\"#E5ECF6\",\"gridcolor\":\"white\",\"linecolor\":\"white\",\"showbackground\":true,\"ticks\":\"\",\"zerolinecolor\":\"white\",\"gridwidth\":2},\"zaxis\":{\"backgroundcolor\":\"#E5ECF6\",\"gridcolor\":\"white\",\"linecolor\":\"white\",\"showbackground\":true,\"ticks\":\"\",\"zerolinecolor\":\"white\",\"gridwidth\":2}},\"shapedefaults\":{\"line\":{\"color\":\"#2a3f5f\"}},\"annotationdefaults\":{\"arrowcolor\":\"#2a3f5f\",\"arrowhead\":0,\"arrowwidth\":1},\"geo\":{\"bgcolor\":\"white\",\"landcolor\":\"#E5ECF6\",\"subunitcolor\":\"white\",\"showland\":true,\"showlakes\":true,\"lakecolor\":\"white\"},\"title\":{\"x\":0.05},\"mapbox\":{\"style\":\"light\"}}}},                        {\"responsive\": true}                    ).then(function(){\n",
       "                            \n",
       "var gd = document.getElementById('7b468dd0-fcc8-4336-a95f-1f6b5369ef7c');\n",
       "var x = new MutationObserver(function (mutations, observer) {{\n",
       "        var display = window.getComputedStyle(gd).display;\n",
       "        if (!display || display === 'none') {{\n",
       "            console.log([gd, 'removed!']);\n",
       "            Plotly.purge(gd);\n",
       "            observer.disconnect();\n",
       "        }}\n",
       "}});\n",
       "\n",
       "// Listen for the removal of the full notebook cells\n",
       "var notebookContainer = gd.closest('#notebook-container');\n",
       "if (notebookContainer) {{\n",
       "    x.observe(notebookContainer, {childList: true});\n",
       "}}\n",
       "\n",
       "// Listen for the clearing of the current output cell\n",
       "var outputEl = gd.closest('.output');\n",
       "if (outputEl) {{\n",
       "    x.observe(outputEl, {childList: true});\n",
       "}}\n",
       "\n",
       "                        })                };                });            </script>        </div>"
      ]
     },
     "metadata": {},
     "output_type": "display_data"
    }
   ],
   "source": [
    "import plotly.figure_factory as ff\n",
    "\n",
    "# x,y = np.meshgrid(np.arange(0, 2, .2), np.arange(0, 2, .2))\n",
    "# u = np.cos(x)*y\n",
    "# v = np.sin(x)*y\n",
    "subset = dfs.sample(10000)\n",
    "data = subset[subset[\"latitude\"] == parsed_latlon[0][0]]\n",
    "data = data[data[\"year\"]<1986]\n",
    "\n",
    "x = data[\"month\"]\n",
    "y = data[\"year\"]\n",
    "u = data[\"u-wind\"]\n",
    "v = data[\"v-wind\"]\n",
    "\n",
    "fig = ff.create_quiver(x, y, u, v)\n",
    "fig.show()"
   ]
  },
  {
   "cell_type": "code",
   "execution_count": null,
   "id": "59afd6f9-839f-4026-8304-36953b1f2431",
   "metadata": {},
   "outputs": [],
   "source": []
  },
  {
   "cell_type": "code",
   "execution_count": null,
   "id": "bdacd175-09ec-4ae7-b300-031fb634ba31",
   "metadata": {},
   "outputs": [],
   "source": []
  }
 ],
 "metadata": {
  "kernelspec": {
   "display_name": "Python 3 (ipykernel)",
   "language": "python",
   "name": "python3"
  },
  "language_info": {
   "codemirror_mode": {
    "name": "ipython",
    "version": 3
   },
   "file_extension": ".py",
   "mimetype": "text/x-python",
   "name": "python",
   "nbconvert_exporter": "python",
   "pygments_lexer": "ipython3",
   "version": "3.10.12"
  }
 },
 "nbformat": 4,
 "nbformat_minor": 5
}
